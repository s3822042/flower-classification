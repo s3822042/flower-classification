version https://git-lfs.github.com/spec/v1
oid sha256:42def2b72dc4e65b30aa8187998ab479ed2ab0ef502469d198bf23110b5fda65
size 1384201
