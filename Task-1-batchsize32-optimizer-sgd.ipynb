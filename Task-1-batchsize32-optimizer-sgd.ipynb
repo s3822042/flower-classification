version https://git-lfs.github.com/spec/v1
oid sha256:86cc99ca985ae66c03c476f457f9ca363a007fd76e6e7e8f3b2c20430b2beaee
size 207310
