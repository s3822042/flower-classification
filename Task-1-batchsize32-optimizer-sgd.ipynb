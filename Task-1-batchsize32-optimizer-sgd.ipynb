version https://git-lfs.github.com/spec/v1
oid sha256:08c40a1bc6bd5b2dddbd83f943534a98c8b006742d20922027dd78a2061beb33
size 30079
