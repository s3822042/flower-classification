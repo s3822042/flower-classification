{
 "cells": [
  {
   "cell_type": "markdown",
   "source": [
    "# GROUP ASSIGNMENT [COSC2753]\n",
    "\n",
    "**Members**:\n",
    "- Vo Thanh Luan – s3822042"
   ],
   "metadata": {
    "collapsed": false
   }
  },
  {
   "cell_type": "markdown",
   "source": [
    "# I. Problem statement"
   ],
   "metadata": {
    "collapsed": false
   }
  },
  {
   "cell_type": "code",
   "execution_count": null,
   "outputs": [],
   "source": [
    "# Importing libraries\n",
    "import os\n",
    "import pandas as pd\n",
    "import numpy as np\n",
    "import seaborn as sns\n",
    "import matplotlib.pyplot as plt\n",
    "import cv2"
   ],
   "metadata": {
    "collapsed": false,
    "ExecuteTime": {
     "start_time": "2023-04-29T13:58:28.429815Z",
     "end_time": "2023-04-29T13:58:28.437374Z"
    }
   }
  },
  {
   "cell_type": "markdown",
   "source": [
    "# II. Data retrieving"
   ],
   "metadata": {
    "collapsed": false
   }
  },
  {
   "cell_type": "code",
   "execution_count": null,
   "outputs": [],
   "source": [
    "data_dir = \"./data/Flowers\"\n",
    "flower_folders = os.listdir(data_dir)\n",
    "print(flower_folders)"
   ],
   "metadata": {
    "collapsed": false,
    "ExecuteTime": {
     "start_time": "2023-04-29T14:21:30.741469Z",
     "end_time": "2023-04-29T14:21:30.759195Z"
    }
   }
  },
  {
   "cell_type": "code",
   "execution_count": null,
   "outputs": [],
   "source": [
    "link = []\n",
    "for label in flower_folders:\n",
    "    path = os.path.join(data_dir, label) # combine path and labels\n",
    "    link.append(path) # append in link\n",
    "print(link)\n",
    "\n",
    "\n",
    "for i in range(len(link)):\n",
    "    new = os.listdir(link[i])\n",
    "    i+=1\n",
    "    print(f\"length : {len(new)}\") # each folder total image count"
   ],
   "metadata": {
    "collapsed": false,
    "ExecuteTime": {
     "start_time": "2023-04-29T14:21:31.232312Z",
     "end_time": "2023-04-29T14:21:31.265891Z"
    }
   }
  }
 ],
 "metadata": {
  "kernelspec": {
   "display_name": "Python 3",
   "language": "python",
   "name": "python3"
  },
  "language_info": {
   "codemirror_mode": {
    "name": "ipython",
    "version": 2
   },
   "file_extension": ".py",
   "mimetype": "text/x-python",
   "name": "python",
   "nbconvert_exporter": "python",
   "pygments_lexer": "ipython2",
   "version": "2.7.6"
  }
 },
 "nbformat": 4,
 "nbformat_minor": 0
}
