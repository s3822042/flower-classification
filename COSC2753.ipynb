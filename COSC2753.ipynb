{
 "cells": [
  {
   "cell_type": "markdown",
   "source": [
    "# GROUP ASSIGNMENT [COSC2753]\n",
    "\n",
    "**Members**:\n",
    "- Vo Thanh Luan – s3822042"
   ],
   "metadata": {
    "collapsed": false
   }
  },
  {
   "cell_type": "markdown",
   "source": [
    "# I. Problem statement"
   ],
   "metadata": {
    "collapsed": false
   }
  },
  {
   "cell_type": "code",
   "execution_count": 3,
   "outputs": [],
   "source": [
    "# Importing libraries\n",
    "import pandas as pd\n",
    "import numpy as np\n",
    "import matplotlib.pyplot as plt"
   ],
   "metadata": {
    "collapsed": false
   }
  },
  {
   "cell_type": "markdown",
   "source": [
    "# II. Data retrieving"
   ],
   "metadata": {
    "collapsed": false
   }
  },
  {
   "cell_type": "code",
   "execution_count": 5,
   "outputs": [],
   "source": [
    "data_label_df = pd.read_csv(\"./data/data_labels_mainData.csv\")\n",
    "data_label_extra_df = pd.read_csv(\"./data/data_labels_extraData.csv\")"
   ],
   "metadata": {
    "collapsed": false
   }
  },
  {
   "cell_type": "code",
   "execution_count": 6,
   "outputs": [
    {
     "data": {
      "text/plain": "      InstanceID  patientID  ImageName cellTypeName  cellType  isCancerous\n0          22405          1  22405.png   fibroblast         0            0\n1          22406          1  22406.png   fibroblast         0            0\n2          22407          1  22407.png   fibroblast         0            0\n3          22408          1  22408.png   fibroblast         0            0\n4          22409          1  22409.png   fibroblast         0            0\n...          ...        ...        ...          ...       ...          ...\n9891        1625         60   1625.png   epithelial         2            1\n9892        1626         60   1626.png   epithelial         2            1\n9893        1627         60   1627.png   epithelial         2            1\n9894        1628         60   1628.png   epithelial         2            1\n9895        1629         60   1629.png   epithelial         2            1\n\n[9896 rows x 6 columns]",
      "text/html": "<div>\n<style scoped>\n    .dataframe tbody tr th:only-of-type {\n        vertical-align: middle;\n    }\n\n    .dataframe tbody tr th {\n        vertical-align: top;\n    }\n\n    .dataframe thead th {\n        text-align: right;\n    }\n</style>\n<table border=\"1\" class=\"dataframe\">\n  <thead>\n    <tr style=\"text-align: right;\">\n      <th></th>\n      <th>InstanceID</th>\n      <th>patientID</th>\n      <th>ImageName</th>\n      <th>cellTypeName</th>\n      <th>cellType</th>\n      <th>isCancerous</th>\n    </tr>\n  </thead>\n  <tbody>\n    <tr>\n      <th>0</th>\n      <td>22405</td>\n      <td>1</td>\n      <td>22405.png</td>\n      <td>fibroblast</td>\n      <td>0</td>\n      <td>0</td>\n    </tr>\n    <tr>\n      <th>1</th>\n      <td>22406</td>\n      <td>1</td>\n      <td>22406.png</td>\n      <td>fibroblast</td>\n      <td>0</td>\n      <td>0</td>\n    </tr>\n    <tr>\n      <th>2</th>\n      <td>22407</td>\n      <td>1</td>\n      <td>22407.png</td>\n      <td>fibroblast</td>\n      <td>0</td>\n      <td>0</td>\n    </tr>\n    <tr>\n      <th>3</th>\n      <td>22408</td>\n      <td>1</td>\n      <td>22408.png</td>\n      <td>fibroblast</td>\n      <td>0</td>\n      <td>0</td>\n    </tr>\n    <tr>\n      <th>4</th>\n      <td>22409</td>\n      <td>1</td>\n      <td>22409.png</td>\n      <td>fibroblast</td>\n      <td>0</td>\n      <td>0</td>\n    </tr>\n    <tr>\n      <th>...</th>\n      <td>...</td>\n      <td>...</td>\n      <td>...</td>\n      <td>...</td>\n      <td>...</td>\n      <td>...</td>\n    </tr>\n    <tr>\n      <th>9891</th>\n      <td>1625</td>\n      <td>60</td>\n      <td>1625.png</td>\n      <td>epithelial</td>\n      <td>2</td>\n      <td>1</td>\n    </tr>\n    <tr>\n      <th>9892</th>\n      <td>1626</td>\n      <td>60</td>\n      <td>1626.png</td>\n      <td>epithelial</td>\n      <td>2</td>\n      <td>1</td>\n    </tr>\n    <tr>\n      <th>9893</th>\n      <td>1627</td>\n      <td>60</td>\n      <td>1627.png</td>\n      <td>epithelial</td>\n      <td>2</td>\n      <td>1</td>\n    </tr>\n    <tr>\n      <th>9894</th>\n      <td>1628</td>\n      <td>60</td>\n      <td>1628.png</td>\n      <td>epithelial</td>\n      <td>2</td>\n      <td>1</td>\n    </tr>\n    <tr>\n      <th>9895</th>\n      <td>1629</td>\n      <td>60</td>\n      <td>1629.png</td>\n      <td>epithelial</td>\n      <td>2</td>\n      <td>1</td>\n    </tr>\n  </tbody>\n</table>\n<p>9896 rows × 6 columns</p>\n</div>"
     },
     "execution_count": 6,
     "metadata": {},
     "output_type": "execute_result"
    }
   ],
   "source": [
    "data_label_df"
   ],
   "metadata": {
    "collapsed": false
   }
  },
  {
   "cell_type": "code",
   "execution_count": 7,
   "outputs": [
    {
     "data": {
      "text/plain": "       InstanceID  patientID  ImageName  isCancerous\n0           12681         61  12681.png            0\n1           12682         61  12682.png            0\n2           12683         61  12683.png            0\n3           12684         61  12684.png            0\n4           12685         61  12685.png            0\n...           ...        ...        ...          ...\n10379       20028         99  20028.png            0\n10380       20029         99  20029.png            0\n10381       20030         99  20030.png            0\n10382       20031         99  20031.png            0\n10383       20032         99  20032.png            0\n\n[10384 rows x 4 columns]",
      "text/html": "<div>\n<style scoped>\n    .dataframe tbody tr th:only-of-type {\n        vertical-align: middle;\n    }\n\n    .dataframe tbody tr th {\n        vertical-align: top;\n    }\n\n    .dataframe thead th {\n        text-align: right;\n    }\n</style>\n<table border=\"1\" class=\"dataframe\">\n  <thead>\n    <tr style=\"text-align: right;\">\n      <th></th>\n      <th>InstanceID</th>\n      <th>patientID</th>\n      <th>ImageName</th>\n      <th>isCancerous</th>\n    </tr>\n  </thead>\n  <tbody>\n    <tr>\n      <th>0</th>\n      <td>12681</td>\n      <td>61</td>\n      <td>12681.png</td>\n      <td>0</td>\n    </tr>\n    <tr>\n      <th>1</th>\n      <td>12682</td>\n      <td>61</td>\n      <td>12682.png</td>\n      <td>0</td>\n    </tr>\n    <tr>\n      <th>2</th>\n      <td>12683</td>\n      <td>61</td>\n      <td>12683.png</td>\n      <td>0</td>\n    </tr>\n    <tr>\n      <th>3</th>\n      <td>12684</td>\n      <td>61</td>\n      <td>12684.png</td>\n      <td>0</td>\n    </tr>\n    <tr>\n      <th>4</th>\n      <td>12685</td>\n      <td>61</td>\n      <td>12685.png</td>\n      <td>0</td>\n    </tr>\n    <tr>\n      <th>...</th>\n      <td>...</td>\n      <td>...</td>\n      <td>...</td>\n      <td>...</td>\n    </tr>\n    <tr>\n      <th>10379</th>\n      <td>20028</td>\n      <td>99</td>\n      <td>20028.png</td>\n      <td>0</td>\n    </tr>\n    <tr>\n      <th>10380</th>\n      <td>20029</td>\n      <td>99</td>\n      <td>20029.png</td>\n      <td>0</td>\n    </tr>\n    <tr>\n      <th>10381</th>\n      <td>20030</td>\n      <td>99</td>\n      <td>20030.png</td>\n      <td>0</td>\n    </tr>\n    <tr>\n      <th>10382</th>\n      <td>20031</td>\n      <td>99</td>\n      <td>20031.png</td>\n      <td>0</td>\n    </tr>\n    <tr>\n      <th>10383</th>\n      <td>20032</td>\n      <td>99</td>\n      <td>20032.png</td>\n      <td>0</td>\n    </tr>\n  </tbody>\n</table>\n<p>10384 rows × 4 columns</p>\n</div>"
     },
     "execution_count": 7,
     "metadata": {},
     "output_type": "execute_result"
    }
   ],
   "source": [
    "data_label_extra_df"
   ],
   "metadata": {
    "collapsed": false
   }
  },
  {
   "cell_type": "code",
   "execution_count": null,
   "outputs": [],
   "source": [],
   "metadata": {
    "collapsed": false
   }
  }
 ],
 "metadata": {
  "kernelspec": {
   "display_name": "Python 3",
   "language": "python",
   "name": "python3"
  },
  "language_info": {
   "codemirror_mode": {
    "name": "ipython",
    "version": 2
   },
   "file_extension": ".py",
   "mimetype": "text/x-python",
   "name": "python",
   "nbconvert_exporter": "python",
   "pygments_lexer": "ipython2",
   "version": "2.7.6"
  }
 },
 "nbformat": 4,
 "nbformat_minor": 0
}
