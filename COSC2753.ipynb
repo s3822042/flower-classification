{
 "cells": [
  {
   "cell_type": "markdown",
   "source": [
    "# GROUP ASSIGNMENT [COSC2753]\n",
    "\n",
    "**Members**:\n",
    "- Vo Thanh Luan – s3822042"
   ],
   "metadata": {
    "collapsed": false
   }
  },
  {
   "cell_type": "markdown",
   "source": [
    "# I. Problem statement"
   ],
   "metadata": {
    "collapsed": false
   }
  },
  {
   "cell_type": "code",
   "execution_count": 1,
   "outputs": [
    {
     "ename": "ModuleNotFoundError",
     "evalue": "No module named 'tensorflow'",
     "output_type": "error",
     "traceback": [
      "\u001B[0;31m---------------------------------------------------------------------------\u001B[0m",
      "\u001B[0;31mModuleNotFoundError\u001B[0m                       Traceback (most recent call last)",
      "Cell \u001B[0;32mIn[1], line 12\u001B[0m\n\u001B[1;32m     10\u001B[0m \u001B[38;5;28;01mimport\u001B[39;00m \u001B[38;5;21;01mcv2\u001B[39;00m\n\u001B[1;32m     11\u001B[0m \u001B[38;5;28;01mimport\u001B[39;00m \u001B[38;5;21;01mpickle\u001B[39;00m\n\u001B[0;32m---> 12\u001B[0m \u001B[38;5;28;01mimport\u001B[39;00m \u001B[38;5;21;01mtensorflow\u001B[39;00m \u001B[38;5;28;01mas\u001B[39;00m \u001B[38;5;21;01mtf\u001B[39;00m\n\u001B[1;32m     13\u001B[0m \u001B[38;5;28;01mimport\u001B[39;00m \u001B[38;5;21;01mmatplotlib\u001B[39;00m\u001B[38;5;21;01m.\u001B[39;00m\u001B[38;5;21;01mimage\u001B[39;00m \u001B[38;5;28;01mas\u001B[39;00m \u001B[38;5;21;01mmpimg\u001B[39;00m\n\u001B[1;32m     14\u001B[0m \u001B[38;5;28;01mfrom\u001B[39;00m \u001B[38;5;21;01mtensorflow\u001B[39;00m \u001B[38;5;28;01mimport\u001B[39;00m keras\n",
      "\u001B[0;31mModuleNotFoundError\u001B[0m: No module named 'tensorflow'"
     ]
    }
   ],
   "source": [
    "import numpy as np\n",
    "import pandas as pd\n",
    "import matplotlib.pyplot as plt\n",
    "import seaborn as sns\n",
    "import datetime\n",
    "import sklearn\n",
    "from sklearn.metrics.pairwise import cosine_similarity\n",
    "# Image reprocessing and image extraction\n",
    "import os\n",
    "import cv2\n",
    "import pickle\n",
    "import tensorflow as tf\n",
    "import matplotlib.image as mpimg\n",
    "from tensorflow import keras\n",
    "from PIL import Image\n",
    "from keras.layers import Embedding\n",
    "from keras.models import Sequential\n",
    "from keras.preprocessing.text import Tokenizer\n",
    "from keras.preprocessing.image import ImageDataGenerator\n",
    "from keras import applications"
   ],
   "metadata": {
    "collapsed": false,
    "ExecuteTime": {
     "start_time": "2023-05-03T00:05:11.508682Z",
     "end_time": "2023-05-03T00:05:13.019861Z"
    }
   }
  },
  {
   "cell_type": "markdown",
   "source": [
    "# II. Data retrieving"
   ],
   "metadata": {
    "collapsed": false
   }
  },
  {
   "cell_type": "code",
   "execution_count": null,
   "outputs": [],
   "source": [
    "input_dir = \"./data/Flowers/\"\n",
    "flower_categories = os.listdir(input_dir)\n",
    "print(flower_categories)"
   ],
   "metadata": {
    "collapsed": false,
    "ExecuteTime": {
     "start_time": "2023-05-03T00:40:26.369540Z",
     "end_time": "2023-05-03T00:40:26.383950Z"
    }
   }
  },
  {
   "cell_type": "code",
   "execution_count": null,
   "outputs": [],
   "source": [
    "link = []\n",
    "for label in flower_categories:\n",
    "    path = os.path.join(input_dir, label) # combine path and labels\n",
    "    link.append(path) # append in link\n",
    "print(link)\n",
    "\n",
    "for i in range(len(link)):\n",
    "    new = os.listdir(link[i])\n",
    "    i+=1\n",
    "    print(f\"length : cd {len(new)}\") # each folder total image count"
   ],
   "metadata": {
    "collapsed": false,
    "ExecuteTime": {
     "start_time": "2023-05-03T00:13:33.895596Z",
     "end_time": "2023-05-03T00:13:33.909654Z"
    }
   }
  },
  {
   "cell_type": "markdown",
   "source": [
    "Raw images memory is about ~1000kb, which is a very good image for viewing but a very computationally expensive image to fit into CNN models. Therefore, they are downscaled to only 224 x 224 pixels dimension, which is the appropriate data format for Keras CNN models like ResNet and VGG to train."
   ],
   "metadata": {
    "collapsed": false
   }
  },
  {
   "cell_type": "code",
   "execution_count": null,
   "outputs": [],
   "source": [
    "data_generators = {}\n",
    "\n",
    "def process_images():\n",
    "\n",
    "    for category in flower_categories:\n",
    "        data_generator = tf.keras.preprocessing.image.ImageDataGenerator(\n",
    "            rescale=1./255,\n",
    "        ).flow_from_directory(\n",
    "            input_dir,\n",
    "            target_size=(224, 224),\n",
    "            class_mode=\"categorical\",\n",
    "            shuffle=True,\n",
    "            classes=[category]\n",
    "        )\n",
    "    data_generators[category] = data_generator"
   ],
   "metadata": {
    "collapsed": false
   }
  },
  {
   "cell_type": "code",
   "execution_count": null,
   "outputs": [],
   "source": [
    "process_images()"
   ],
   "metadata": {
    "collapsed": false,
    "ExecuteTime": {
     "start_time": "2023-05-03T00:14:57.640224Z",
     "end_time": "2023-05-03T00:15:00.470591Z"
    }
   }
  },
  {
   "cell_type": "code",
   "execution_count": null,
   "outputs": [],
   "source": [
    "fig_dict = {}\n",
    "for category in flower_categories:\n",
    "    fig_dict[category], ax = plt.subplots(ncols=4, figsize=(20,20))\n",
    "    batch = data_generators[category].next()\n",
    "    for idx, img in enumerate(batch[0][:4]):\n",
    "        ax[idx].imshow(img)\n",
    "        ax[idx].set_title(category)"
   ],
   "metadata": {
    "collapsed": false
   }
  },
  {
   "cell_type": "code",
   "execution_count": null,
   "outputs": [],
   "source": [
    "total_sizes = {}\n",
    "for category in flower_categories:\n",
    "    total_sizes[category] = len(data_generators[category].filenames)\n",
    "\n",
    "fig, ax = plt.subplots()\n",
    "ax.bar(total_sizes.keys(), total_sizes.values())\n",
    "\n",
    "# set chart title and axis labels\n",
    "ax.set_title(\"Number Of Images In Each Flower Category\")\n",
    "ax.set_xlabel(\"Flower Categories\")\n",
    "ax.set_ylabel(\"Number of Images\")\n",
    "\n",
    "fig.set_size_inches(10, 6)\n",
    "ax.tick_params(axis='x', labelsize=8)\n",
    "\n",
    "# show the chart\n",
    "plt.show()"
   ],
   "metadata": {
    "collapsed": false
   }
  },
  {
   "cell_type": "markdown",
   "source": [
    "## Task 2: Recommendation"
   ],
   "metadata": {
    "collapsed": false
   }
  },
  {
   "cell_type": "markdown",
   "source": [
    "### Feature engineering"
   ],
   "metadata": {
    "collapsed": false
   }
  },
  {
   "cell_type": "code",
   "execution_count": null,
   "outputs": [],
   "source": [],
   "metadata": {
    "collapsed": false
   }
  },
  {
   "cell_type": "markdown",
   "source": [
    "Resnet50 For Feature Extraction"
   ],
   "metadata": {
    "collapsed": false
   }
  },
  {
   "cell_type": "code",
   "execution_count": null,
   "outputs": [],
   "source": [],
   "metadata": {
    "collapsed": false
   }
  },
  {
   "cell_type": "code",
   "execution_count": null,
   "outputs": [],
   "source": [
    "# display a single image\n",
    "def display_image(path):\n",
    "    img = Image.open(path)\n",
    "    display(img)"
   ],
   "metadata": {
    "collapsed": false
   }
  },
  {
   "cell_type": "markdown",
   "source": [
    "Recommender using ResNet50 Features"
   ],
   "metadata": {
    "collapsed": false
   }
  },
  {
   "cell_type": "markdown",
   "source": [
    "Recommender using VGG16 Features"
   ],
   "metadata": {
    "collapsed": false
   }
  }
 ],
 "metadata": {
  "kernelspec": {
   "display_name": "Python 3",
   "language": "python",
   "name": "python3"
  },
  "language_info": {
   "codemirror_mode": {
    "name": "ipython",
    "version": 2
   },
   "file_extension": ".py",
   "mimetype": "text/x-python",
   "name": "python",
   "nbconvert_exporter": "python",
   "pygments_lexer": "ipython2",
   "version": "2.7.6"
  }
 },
 "nbformat": 4,
 "nbformat_minor": 0
}
