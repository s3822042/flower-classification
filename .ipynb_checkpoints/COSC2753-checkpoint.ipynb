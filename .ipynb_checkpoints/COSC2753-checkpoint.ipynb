version https://git-lfs.github.com/spec/v1
oid sha256:36010970e19c7e00457894ef3fe45122fb262bff1a61b28ce39969ec37e95da0
size 11025
