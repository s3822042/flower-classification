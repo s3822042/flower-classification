version https://git-lfs.github.com/spec/v1
oid sha256:04d021910ac302b144dc663b8b72c29372fcd8c9b2fd7b2830e5bb5e2a7b2f10
size 388976
