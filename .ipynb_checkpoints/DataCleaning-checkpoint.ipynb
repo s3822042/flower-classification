{
 "cells": [
  {
   "cell_type": "markdown",
   "metadata": {
    "cell_id": "616e87907fb14d828047e4d1862d323f",
    "deepnote_cell_type": "markdown",
    "tags": []
   },
   "source": [
    "# 2. Data Cleaning"
   ]
  },
  {
   "cell_type": "code",
   "execution_count": 1,
   "metadata": {
    "cell_id": "309ae93afd4e47eea0bbed99f137feaa",
    "deepnote_cell_type": "code",
    "deepnote_to_be_reexecuted": false,
    "execution_millis": 964,
    "execution_start": 1672922786932,
    "source_hash": "c9f2b450",
    "tags": []
   },
   "outputs": [],
   "source": [
    "import pandas as pd\n",
    "import numpy as np\n",
    "import matplotlib.pyplot as plt\n",
    "import matplotlib.image as mpimg\n",
    "from pathlib import Path\n",
    "import seaborn as sns\n",
    "import plotly.express as px\n",
    "import os\n",
    "%matplotlib inline"
   ]
  },
  {
   "cell_type": "markdown",
   "metadata": {
    "cell_id": "8402cea9e1514de78c855730d54e7a43",
    "deepnote_cell_type": "markdown",
    "tags": []
   },
   "source": [
    "#### Detect corrupt image"
   ]
  },
  {
   "cell_type": "markdown",
   "metadata": {},
   "source": [
    "It is crucial to detect corrupted images, as they can negatively impact the performance of a machine learning model or computer vision system. Images that have been corrupted may contain noise, artifacts, or other anomalies that can lead to misclassifications or output errors. Improve the accuracy and dependability of a model or system by detecting and removing these images from the dataset. In addition, corrupted images can cause biases in the model or system, which can lead to erroneous results or unjust decisions."
   ]
  },
  {
   "cell_type": "code",
   "execution_count": 2,
   "metadata": {
    "cell_id": "7b7cb2c75fca40999fe0cad4f0195c79",
    "deepnote_cell_type": "code",
    "deepnote_to_be_reexecuted": false,
    "execution_millis": 8943,
    "execution_start": 1672922788090,
    "source_hash": "b424dde3",
    "tags": []
   },
   "outputs": [
    {
     "name": "stdout",
     "output_type": "stream",
     "text": [
      "Flowers/Flowers\\Babi\n",
      "Flowers/Flowers\\Calimerio\n",
      "Flowers/Flowers\\Chrysanthemum\n",
      "Flowers/Flowers\\Hydrangeas\n",
      "Flowers/Flowers\\Lisianthus\n",
      "Flowers/Flowers\\Pingpong\n",
      "Flowers/Flowers\\Rosy\n",
      "Flowers/Flowers\\Tana\n",
      "Total number of images :  0\n"
     ]
    }
   ],
   "source": [
    "from pathlib import Path\n",
    "import imageio.v2 as imageio\n",
    "\n",
    "corrupted_image = list()\n",
    "dataset_path = \"Flowers/Flowers\"\n",
    "accu = 0\n",
    "\n",
    "for root, dirs, files in os.walk(dataset_path):\n",
    "    for name in dirs:\n",
    "        print(os.path.join(root, name))\n",
    "        for image_file in Path(os.path.join(root, name)).glob('*.jpg'):\n",
    "          accu = accu + 1\n",
    "          try :\n",
    "              image = imageio.imread(image_file)\n",
    "            #   print(f'read {image_file}')\n",
    "          except :\n",
    "              print(f'Cannot read image {image_file}')\n",
    "              corrupted_image.add(image_file)\n",
    "print(\"Total number of images : \", accu)"
   ]
  },
  {
   "cell_type": "code",
   "execution_count": 3,
   "metadata": {
    "cell_id": "c39491b4dc644946b3c0da8ece483dee",
    "deepnote_cell_type": "code",
    "deepnote_to_be_reexecuted": false,
    "execution_millis": 43,
    "execution_start": 1672922797036,
    "source_hash": "7c73fbbc",
    "tags": []
   },
   "outputs": [
    {
     "data": {
      "text/plain": [
       "0"
      ]
     },
     "execution_count": 3,
     "metadata": {},
     "output_type": "execute_result"
    }
   ],
   "source": [
    "len(corrupted_image)"
   ]
  },
  {
   "cell_type": "markdown",
   "metadata": {
    "cell_id": "258e7da2189b45738169d35a260bbfc7",
    "deepnote_cell_type": "markdown",
    "tags": []
   },
   "source": [
    "#### Image duplication detection"
   ]
  },
  {
   "cell_type": "markdown",
   "metadata": {},
   "source": [
    "Duplicate image detection is essential for multiple reasons:\n",
    "\n",
    "* <b>Reducing storage</b>: Storing duplicate images wastes storage space, and detecting and removing them can help reduce storage costs.\n",
    "\n",
    "* <b>Improving efficiency</b>: Processing or analyzing duplicate images is inefficient and time-consuming. Removing duplicates can improve processing and analysis efficiency.\n",
    "\n",
    "* <b>Enhancing accuracy</b>: Duplicate images can bias the results of image-based analysis, such as object detection or image classification. Removing duplicates can improve the accuracy of these analyses.\n",
    "\n",
    "* <b>Maintaining data integrity</b>: Duplicates can lead to confusion and inconsistency in data, especially when dealing with large image datasets. Removing duplicates helps to maintain data integrity and consistency."
   ]
  },
  {
   "cell_type": "code",
   "execution_count": 4,
   "metadata": {
    "cell_id": "9d279441058a4f63995752f120a7746c",
    "deepnote_cell_type": "code",
    "deepnote_to_be_reexecuted": false,
    "execution_millis": 161303,
    "execution_start": 1672922797325,
    "source_hash": "a616d0bf",
    "tags": []
   },
   "outputs": [
    {
     "name": "stdout",
     "output_type": "stream",
     "text": [
      "<generator object Path.glob at 0x000001F9AE398430>\n",
      "<generator object Path.glob at 0x000001F9AE398430>\n",
      "<generator object Path.glob at 0x000001F9AE398430>\n",
      "<generator object Path.glob at 0x000001F9AE398430>\n",
      "<generator object Path.glob at 0x000001F9AE398430>\n",
      "<generator object Path.glob at 0x000001F9AE398430>\n",
      "<generator object Path.glob at 0x000001F9AE398430>\n",
      "<generator object Path.glob at 0x000001F9AE398430>\n"
     ]
    }
   ],
   "source": [
    "from PIL import Image\n",
    "import imagehash\n",
    "import glob\n",
    "\n",
    "# Define a function to compute the hash of an image file\n",
    "def compute_hash(filepath):\n",
    "    with Image.open(filepath) as img:\n",
    "        return str(imagehash.phash(img))\n",
    "\n",
    "# Define a function to find and remove duplicated images\n",
    "def remove_duplicates(rootdir):\n",
    "    hashes = {}\n",
    "    duplicated = []\n",
    "    rootdir = glob.glob(rootdir)\n",
    "    for folder in rootdir:\n",
    "        print(folder)\n",
    "        for image_dir in glob.glob(folder+'/*.jpg'):\n",
    "            print(image_dir)\n",
    "            # Compute the hash of the image file\n",
    "            file_hash = compute_hash(image_dir)\n",
    "            # Check if this hash has already been seen\n",
    "            file=os.path.basename(path).split('/')[-1]\n",
    "            print(file)\n",
    "            if file_hash in hashes:\n",
    "                # This file is a duplicate, so remove it\n",
    "                os.remove(image_dir)\n",
    "                print(f'Removed duplicate file: {file}')\n",
    "                duplicated=duplicated.append(file)\n",
    "            else:\n",
    "                # This file is not a duplicate, so remember its hash\n",
    "                hashes[file_hash] = file\n",
    "\n",
    "# Usage: specify the root directory to search for duplicates\n",
    "remove_duplicates('Flowers/Flowers/*')"
   ]
  }
 ],
 "metadata": {
  "deepnote": {},
  "deepnote_execution_queue": [],
  "deepnote_notebook_id": "104b4bb7d35d4086b1caf300c3bd47f4",
  "deepnote_persisted_session": {
   "createdAt": "2023-01-05T13:31:34.092Z"
  },
  "kernelspec": {
   "display_name": "Python 3 (ipykernel)",
   "language": "python",
   "name": "python3"
  },
  "language_info": {
   "codemirror_mode": {
    "name": "ipython",
    "version": 3
   },
   "file_extension": ".py",
   "mimetype": "text/x-python",
   "name": "python",
   "nbconvert_exporter": "python",
   "pygments_lexer": "ipython3",
   "version": "3.9.16"
  },
  "vscode": {
   "interpreter": {
    "hash": "b0fa6594d8f4cbf19f97940f81e996739fb7646882a419484c72d19e05852a7e"
   }
  }
 },
 "nbformat": 4,
 "nbformat_minor": 4
}
