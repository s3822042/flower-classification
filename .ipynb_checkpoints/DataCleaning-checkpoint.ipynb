{
 "cells": [
  {
   "cell_type": "markdown",
   "metadata": {
    "cell_id": "616e87907fb14d828047e4d1862d323f",
    "deepnote_cell_type": "markdown",
    "tags": []
   },
   "source": [
    "# 2. Data Cleaning"
   ]
  },
  {
   "cell_type": "markdown",
   "metadata": {
    "cell_id": "926cb1d6135442c38cb0712daedb3214",
    "deepnote_cell_type": "markdown",
    "tags": []
   },
   "source": [
    "## 1. Data import"
   ]
  },
  {
   "cell_type": "code",
   "execution_count": 1,
   "metadata": {
    "cell_id": "309ae93afd4e47eea0bbed99f137feaa",
    "deepnote_cell_type": "code",
    "deepnote_to_be_reexecuted": false,
    "execution_millis": 964,
    "execution_start": 1672922786932,
    "source_hash": "c9f2b450",
    "tags": []
   },
   "outputs": [],
   "source": [
    "import pandas as pd\n",
    "import numpy as np\n",
    "import matplotlib.pyplot as plt\n",
    "import matplotlib.image as mpimg\n",
    "from pathlib import Path\n",
    "import seaborn as sns\n",
    "import plotly.express as px\n",
    "%matplotlib inline"
   ]
  },
  {
   "cell_type": "code",
   "execution_count": 2,
   "metadata": {
    "cell_id": "3f353df51ae94cbebc2d1ef3e9557599",
    "deepnote_cell_type": "code",
    "deepnote_to_be_reexecuted": false,
    "execution_millis": 15,
    "execution_start": 1672922787898,
    "source_hash": "681d3cc0",
    "tags": []
   },
   "outputs": [],
   "source": [
    "df_extra = pd.read_csv('./original_data/data_labels_extraData.csv')\n",
    "df_labels = pd.read_csv('./original_data/data_labels_mainData.csv')"
   ]
  },
  {
   "cell_type": "code",
   "execution_count": 3,
   "metadata": {
    "cell_id": "144050ec43e24ddaa75d8b6afd181a74",
    "deepnote_cell_type": "code",
    "deepnote_to_be_reexecuted": false,
    "execution_millis": 18,
    "execution_start": 1672922787918,
    "source_hash": "92141673",
    "tags": []
   },
   "outputs": [
    {
     "data": {
      "application/vnd.deepnote.dataframe.v3+json": {
       "column_count": 4,
       "columns": [
        {
         "dtype": "int64",
         "name": "InstanceID",
         "stats": {
          "histogram": [
           {
            "bin_end": 12681.4,
            "bin_start": 12681,
            "count": 1
           },
           {
            "bin_end": 12681.8,
            "bin_start": 12681.4,
            "count": 0
           },
           {
            "bin_end": 12682.2,
            "bin_start": 12681.8,
            "count": 1
           },
           {
            "bin_end": 12682.6,
            "bin_start": 12682.2,
            "count": 0
           },
           {
            "bin_end": 12683,
            "bin_start": 12682.6,
            "count": 0
           },
           {
            "bin_end": 12683.4,
            "bin_start": 12683,
            "count": 1
           },
           {
            "bin_end": 12683.8,
            "bin_start": 12683.4,
            "count": 0
           },
           {
            "bin_end": 12684.2,
            "bin_start": 12683.8,
            "count": 1
           },
           {
            "bin_end": 12684.6,
            "bin_start": 12684.2,
            "count": 0
           },
           {
            "bin_end": 12685,
            "bin_start": 12684.6,
            "count": 1
           }
          ],
          "max": "12685",
          "min": "12681",
          "nan_count": 0,
          "unique_count": 5
         }
        },
        {
         "dtype": "int64",
         "name": "patientID",
         "stats": {
          "histogram": [
           {
            "bin_end": 60.6,
            "bin_start": 60.5,
            "count": 0
           },
           {
            "bin_end": 60.7,
            "bin_start": 60.6,
            "count": 0
           },
           {
            "bin_end": 60.8,
            "bin_start": 60.7,
            "count": 0
           },
           {
            "bin_end": 60.9,
            "bin_start": 60.8,
            "count": 0
           },
           {
            "bin_end": 61,
            "bin_start": 60.9,
            "count": 0
           },
           {
            "bin_end": 61.1,
            "bin_start": 61,
            "count": 5
           },
           {
            "bin_end": 61.2,
            "bin_start": 61.1,
            "count": 0
           },
           {
            "bin_end": 61.3,
            "bin_start": 61.2,
            "count": 0
           },
           {
            "bin_end": 61.4,
            "bin_start": 61.3,
            "count": 0
           },
           {
            "bin_end": 61.5,
            "bin_start": 61.4,
            "count": 0
           }
          ],
          "max": "61",
          "min": "61",
          "nan_count": 0,
          "unique_count": 1
         }
        },
        {
         "dtype": "object",
         "name": "ImageName",
         "stats": {
          "categories": [
           {
            "count": 1,
            "name": "12681.png"
           },
           {
            "count": 1,
            "name": "12682.png"
           },
           {
            "count": 3,
            "name": "3 others"
           }
          ],
          "nan_count": 0,
          "unique_count": 5
         }
        },
        {
         "dtype": "int64",
         "name": "isCancerous",
         "stats": {
          "histogram": [
           {
            "bin_end": -0.4,
            "bin_start": -0.5,
            "count": 0
           },
           {
            "bin_end": -0.3,
            "bin_start": -0.4,
            "count": 0
           },
           {
            "bin_end": -0.19999999999999996,
            "bin_start": -0.3,
            "count": 0
           },
           {
            "bin_end": -0.09999999999999998,
            "bin_start": -0.19999999999999996,
            "count": 0
           },
           {
            "bin_end": 0,
            "bin_start": -0.09999999999999998,
            "count": 0
           },
           {
            "bin_end": 0.10000000000000009,
            "bin_start": 0,
            "count": 5
           },
           {
            "bin_end": 0.20000000000000007,
            "bin_start": 0.10000000000000009,
            "count": 0
           },
           {
            "bin_end": 0.30000000000000004,
            "bin_start": 0.20000000000000007,
            "count": 0
           },
           {
            "bin_end": 0.4,
            "bin_start": 0.30000000000000004,
            "count": 0
           },
           {
            "bin_end": 0.5,
            "bin_start": 0.4,
            "count": 0
           }
          ],
          "max": "0",
          "min": "0",
          "nan_count": 0,
          "unique_count": 1
         }
        },
        {
         "dtype": "int64",
         "name": "_deepnote_index_column"
        }
       ],
       "row_count": 5,
       "rows": [
        {
         "ImageName": "12681.png",
         "InstanceID": "12681",
         "_deepnote_index_column": "0",
         "isCancerous": "0",
         "patientID": "61"
        },
        {
         "ImageName": "12682.png",
         "InstanceID": "12682",
         "_deepnote_index_column": "1",
         "isCancerous": "0",
         "patientID": "61"
        },
        {
         "ImageName": "12683.png",
         "InstanceID": "12683",
         "_deepnote_index_column": "2",
         "isCancerous": "0",
         "patientID": "61"
        },
        {
         "ImageName": "12684.png",
         "InstanceID": "12684",
         "_deepnote_index_column": "3",
         "isCancerous": "0",
         "patientID": "61"
        },
        {
         "ImageName": "12685.png",
         "InstanceID": "12685",
         "_deepnote_index_column": "4",
         "isCancerous": "0",
         "patientID": "61"
        }
       ]
      },
      "text/html": [
       "<div>\n",
       "<style scoped>\n",
       "    .dataframe tbody tr th:only-of-type {\n",
       "        vertical-align: middle;\n",
       "    }\n",
       "\n",
       "    .dataframe tbody tr th {\n",
       "        vertical-align: top;\n",
       "    }\n",
       "\n",
       "    .dataframe thead th {\n",
       "        text-align: right;\n",
       "    }\n",
       "</style>\n",
       "<table border=\"1\" class=\"dataframe\">\n",
       "  <thead>\n",
       "    <tr style=\"text-align: right;\">\n",
       "      <th></th>\n",
       "      <th>InstanceID</th>\n",
       "      <th>patientID</th>\n",
       "      <th>ImageName</th>\n",
       "      <th>isCancerous</th>\n",
       "    </tr>\n",
       "  </thead>\n",
       "  <tbody>\n",
       "    <tr>\n",
       "      <th>0</th>\n",
       "      <td>12681</td>\n",
       "      <td>61</td>\n",
       "      <td>12681.png</td>\n",
       "      <td>0</td>\n",
       "    </tr>\n",
       "    <tr>\n",
       "      <th>1</th>\n",
       "      <td>12682</td>\n",
       "      <td>61</td>\n",
       "      <td>12682.png</td>\n",
       "      <td>0</td>\n",
       "    </tr>\n",
       "    <tr>\n",
       "      <th>2</th>\n",
       "      <td>12683</td>\n",
       "      <td>61</td>\n",
       "      <td>12683.png</td>\n",
       "      <td>0</td>\n",
       "    </tr>\n",
       "    <tr>\n",
       "      <th>3</th>\n",
       "      <td>12684</td>\n",
       "      <td>61</td>\n",
       "      <td>12684.png</td>\n",
       "      <td>0</td>\n",
       "    </tr>\n",
       "    <tr>\n",
       "      <th>4</th>\n",
       "      <td>12685</td>\n",
       "      <td>61</td>\n",
       "      <td>12685.png</td>\n",
       "      <td>0</td>\n",
       "    </tr>\n",
       "  </tbody>\n",
       "</table>\n",
       "</div>"
      ],
      "text/plain": [
       "   InstanceID  patientID  ImageName  isCancerous\n",
       "0       12681         61  12681.png            0\n",
       "1       12682         61  12682.png            0\n",
       "2       12683         61  12683.png            0\n",
       "3       12684         61  12684.png            0\n",
       "4       12685         61  12685.png            0"
      ]
     },
     "execution_count": 3,
     "metadata": {},
     "output_type": "execute_result"
    }
   ],
   "source": [
    "df_extra.head()"
   ]
  },
  {
   "cell_type": "code",
   "execution_count": 4,
   "metadata": {
    "cell_id": "51d778fe410f4189b2659ca3278ada2f",
    "deepnote_cell_type": "code",
    "deepnote_to_be_reexecuted": false,
    "execution_millis": 3,
    "execution_start": 1672922787944,
    "source_hash": "3cf517dc",
    "tags": []
   },
   "outputs": [
    {
     "data": {
      "application/vnd.deepnote.dataframe.v3+json": {
       "column_count": 4,
       "columns": [
        {
         "dtype": "int64",
         "name": "InstanceID",
         "stats": {
          "histogram": [
           {
            "bin_end": 20028.4,
            "bin_start": 20028,
            "count": 1
           },
           {
            "bin_end": 20028.8,
            "bin_start": 20028.4,
            "count": 0
           },
           {
            "bin_end": 20029.2,
            "bin_start": 20028.8,
            "count": 1
           },
           {
            "bin_end": 20029.6,
            "bin_start": 20029.2,
            "count": 0
           },
           {
            "bin_end": 20030,
            "bin_start": 20029.6,
            "count": 0
           },
           {
            "bin_end": 20030.4,
            "bin_start": 20030,
            "count": 1
           },
           {
            "bin_end": 20030.8,
            "bin_start": 20030.4,
            "count": 0
           },
           {
            "bin_end": 20031.2,
            "bin_start": 20030.8,
            "count": 1
           },
           {
            "bin_end": 20031.6,
            "bin_start": 20031.2,
            "count": 0
           },
           {
            "bin_end": 20032,
            "bin_start": 20031.6,
            "count": 1
           }
          ],
          "max": "20032",
          "min": "20028",
          "nan_count": 0,
          "unique_count": 5
         }
        },
        {
         "dtype": "int64",
         "name": "patientID",
         "stats": {
          "histogram": [
           {
            "bin_end": 98.6,
            "bin_start": 98.5,
            "count": 0
           },
           {
            "bin_end": 98.7,
            "bin_start": 98.6,
            "count": 0
           },
           {
            "bin_end": 98.8,
            "bin_start": 98.7,
            "count": 0
           },
           {
            "bin_end": 98.9,
            "bin_start": 98.8,
            "count": 0
           },
           {
            "bin_end": 99,
            "bin_start": 98.9,
            "count": 0
           },
           {
            "bin_end": 99.1,
            "bin_start": 99,
            "count": 5
           },
           {
            "bin_end": 99.2,
            "bin_start": 99.1,
            "count": 0
           },
           {
            "bin_end": 99.3,
            "bin_start": 99.2,
            "count": 0
           },
           {
            "bin_end": 99.4,
            "bin_start": 99.3,
            "count": 0
           },
           {
            "bin_end": 99.5,
            "bin_start": 99.4,
            "count": 0
           }
          ],
          "max": "99",
          "min": "99",
          "nan_count": 0,
          "unique_count": 1
         }
        },
        {
         "dtype": "object",
         "name": "ImageName",
         "stats": {
          "categories": [
           {
            "count": 1,
            "name": "20028.png"
           },
           {
            "count": 1,
            "name": "20029.png"
           },
           {
            "count": 3,
            "name": "3 others"
           }
          ],
          "nan_count": 0,
          "unique_count": 5
         }
        },
        {
         "dtype": "int64",
         "name": "isCancerous",
         "stats": {
          "histogram": [
           {
            "bin_end": -0.4,
            "bin_start": -0.5,
            "count": 0
           },
           {
            "bin_end": -0.3,
            "bin_start": -0.4,
            "count": 0
           },
           {
            "bin_end": -0.19999999999999996,
            "bin_start": -0.3,
            "count": 0
           },
           {
            "bin_end": -0.09999999999999998,
            "bin_start": -0.19999999999999996,
            "count": 0
           },
           {
            "bin_end": 0,
            "bin_start": -0.09999999999999998,
            "count": 0
           },
           {
            "bin_end": 0.10000000000000009,
            "bin_start": 0,
            "count": 5
           },
           {
            "bin_end": 0.20000000000000007,
            "bin_start": 0.10000000000000009,
            "count": 0
           },
           {
            "bin_end": 0.30000000000000004,
            "bin_start": 0.20000000000000007,
            "count": 0
           },
           {
            "bin_end": 0.4,
            "bin_start": 0.30000000000000004,
            "count": 0
           },
           {
            "bin_end": 0.5,
            "bin_start": 0.4,
            "count": 0
           }
          ],
          "max": "0",
          "min": "0",
          "nan_count": 0,
          "unique_count": 1
         }
        },
        {
         "dtype": "int64",
         "name": "_deepnote_index_column"
        }
       ],
       "row_count": 5,
       "rows": [
        {
         "ImageName": "20028.png",
         "InstanceID": "20028",
         "_deepnote_index_column": "10379",
         "isCancerous": "0",
         "patientID": "99"
        },
        {
         "ImageName": "20029.png",
         "InstanceID": "20029",
         "_deepnote_index_column": "10380",
         "isCancerous": "0",
         "patientID": "99"
        },
        {
         "ImageName": "20030.png",
         "InstanceID": "20030",
         "_deepnote_index_column": "10381",
         "isCancerous": "0",
         "patientID": "99"
        },
        {
         "ImageName": "20031.png",
         "InstanceID": "20031",
         "_deepnote_index_column": "10382",
         "isCancerous": "0",
         "patientID": "99"
        },
        {
         "ImageName": "20032.png",
         "InstanceID": "20032",
         "_deepnote_index_column": "10383",
         "isCancerous": "0",
         "patientID": "99"
        }
       ]
      },
      "text/html": [
       "<div>\n",
       "<style scoped>\n",
       "    .dataframe tbody tr th:only-of-type {\n",
       "        vertical-align: middle;\n",
       "    }\n",
       "\n",
       "    .dataframe tbody tr th {\n",
       "        vertical-align: top;\n",
       "    }\n",
       "\n",
       "    .dataframe thead th {\n",
       "        text-align: right;\n",
       "    }\n",
       "</style>\n",
       "<table border=\"1\" class=\"dataframe\">\n",
       "  <thead>\n",
       "    <tr style=\"text-align: right;\">\n",
       "      <th></th>\n",
       "      <th>InstanceID</th>\n",
       "      <th>patientID</th>\n",
       "      <th>ImageName</th>\n",
       "      <th>isCancerous</th>\n",
       "    </tr>\n",
       "  </thead>\n",
       "  <tbody>\n",
       "    <tr>\n",
       "      <th>10379</th>\n",
       "      <td>20028</td>\n",
       "      <td>99</td>\n",
       "      <td>20028.png</td>\n",
       "      <td>0</td>\n",
       "    </tr>\n",
       "    <tr>\n",
       "      <th>10380</th>\n",
       "      <td>20029</td>\n",
       "      <td>99</td>\n",
       "      <td>20029.png</td>\n",
       "      <td>0</td>\n",
       "    </tr>\n",
       "    <tr>\n",
       "      <th>10381</th>\n",
       "      <td>20030</td>\n",
       "      <td>99</td>\n",
       "      <td>20030.png</td>\n",
       "      <td>0</td>\n",
       "    </tr>\n",
       "    <tr>\n",
       "      <th>10382</th>\n",
       "      <td>20031</td>\n",
       "      <td>99</td>\n",
       "      <td>20031.png</td>\n",
       "      <td>0</td>\n",
       "    </tr>\n",
       "    <tr>\n",
       "      <th>10383</th>\n",
       "      <td>20032</td>\n",
       "      <td>99</td>\n",
       "      <td>20032.png</td>\n",
       "      <td>0</td>\n",
       "    </tr>\n",
       "  </tbody>\n",
       "</table>\n",
       "</div>"
      ],
      "text/plain": [
       "       InstanceID  patientID  ImageName  isCancerous\n",
       "10379       20028         99  20028.png            0\n",
       "10380       20029         99  20029.png            0\n",
       "10381       20030         99  20030.png            0\n",
       "10382       20031         99  20031.png            0\n",
       "10383       20032         99  20032.png            0"
      ]
     },
     "execution_count": 4,
     "metadata": {},
     "output_type": "execute_result"
    }
   ],
   "source": [
    "df_extra.tail()"
   ]
  },
  {
   "cell_type": "code",
   "execution_count": 5,
   "metadata": {
    "cell_id": "f6fb97433ff74ea5b41b1be0c941f943",
    "deepnote_cell_type": "code",
    "deepnote_to_be_reexecuted": false,
    "execution_millis": 1,
    "execution_start": 1672922787966,
    "source_hash": "455e58b1",
    "tags": []
   },
   "outputs": [
    {
     "data": {
      "application/vnd.deepnote.dataframe.v3+json": {
       "column_count": 6,
       "columns": [
        {
         "dtype": "int64",
         "name": "InstanceID",
         "stats": {
          "histogram": [
           {
            "bin_end": 22405.4,
            "bin_start": 22405,
            "count": 1
           },
           {
            "bin_end": 22405.8,
            "bin_start": 22405.4,
            "count": 0
           },
           {
            "bin_end": 22406.2,
            "bin_start": 22405.8,
            "count": 1
           },
           {
            "bin_end": 22406.6,
            "bin_start": 22406.2,
            "count": 0
           },
           {
            "bin_end": 22407,
            "bin_start": 22406.6,
            "count": 0
           },
           {
            "bin_end": 22407.4,
            "bin_start": 22407,
            "count": 1
           },
           {
            "bin_end": 22407.8,
            "bin_start": 22407.4,
            "count": 0
           },
           {
            "bin_end": 22408.2,
            "bin_start": 22407.8,
            "count": 1
           },
           {
            "bin_end": 22408.6,
            "bin_start": 22408.2,
            "count": 0
           },
           {
            "bin_end": 22409,
            "bin_start": 22408.6,
            "count": 1
           }
          ],
          "max": "22409",
          "min": "22405",
          "nan_count": 0,
          "unique_count": 5
         }
        },
        {
         "dtype": "int64",
         "name": "patientID",
         "stats": {
          "histogram": [
           {
            "bin_end": 0.6,
            "bin_start": 0.5,
            "count": 0
           },
           {
            "bin_end": 0.7,
            "bin_start": 0.6,
            "count": 0
           },
           {
            "bin_end": 0.8,
            "bin_start": 0.7,
            "count": 0
           },
           {
            "bin_end": 0.9,
            "bin_start": 0.8,
            "count": 0
           },
           {
            "bin_end": 1,
            "bin_start": 0.9,
            "count": 0
           },
           {
            "bin_end": 1.1,
            "bin_start": 1,
            "count": 5
           },
           {
            "bin_end": 1.2000000000000002,
            "bin_start": 1.1,
            "count": 0
           },
           {
            "bin_end": 1.3,
            "bin_start": 1.2000000000000002,
            "count": 0
           },
           {
            "bin_end": 1.4,
            "bin_start": 1.3,
            "count": 0
           },
           {
            "bin_end": 1.5,
            "bin_start": 1.4,
            "count": 0
           }
          ],
          "max": "1",
          "min": "1",
          "nan_count": 0,
          "unique_count": 1
         }
        },
        {
         "dtype": "object",
         "name": "ImageName",
         "stats": {
          "categories": [
           {
            "count": 1,
            "name": "22405.png"
           },
           {
            "count": 1,
            "name": "22406.png"
           },
           {
            "count": 3,
            "name": "3 others"
           }
          ],
          "nan_count": 0,
          "unique_count": 5
         }
        },
        {
         "dtype": "object",
         "name": "cellTypeName",
         "stats": {
          "categories": [
           {
            "count": 5,
            "name": "fibroblast"
           }
          ],
          "nan_count": 0,
          "unique_count": 1
         }
        },
        {
         "dtype": "int64",
         "name": "cellType",
         "stats": {
          "histogram": [
           {
            "bin_end": -0.4,
            "bin_start": -0.5,
            "count": 0
           },
           {
            "bin_end": -0.3,
            "bin_start": -0.4,
            "count": 0
           },
           {
            "bin_end": -0.19999999999999996,
            "bin_start": -0.3,
            "count": 0
           },
           {
            "bin_end": -0.09999999999999998,
            "bin_start": -0.19999999999999996,
            "count": 0
           },
           {
            "bin_end": 0,
            "bin_start": -0.09999999999999998,
            "count": 0
           },
           {
            "bin_end": 0.10000000000000009,
            "bin_start": 0,
            "count": 5
           },
           {
            "bin_end": 0.20000000000000007,
            "bin_start": 0.10000000000000009,
            "count": 0
           },
           {
            "bin_end": 0.30000000000000004,
            "bin_start": 0.20000000000000007,
            "count": 0
           },
           {
            "bin_end": 0.4,
            "bin_start": 0.30000000000000004,
            "count": 0
           },
           {
            "bin_end": 0.5,
            "bin_start": 0.4,
            "count": 0
           }
          ],
          "max": "0",
          "min": "0",
          "nan_count": 0,
          "unique_count": 1
         }
        },
        {
         "dtype": "int64",
         "name": "isCancerous",
         "stats": {
          "histogram": [
           {
            "bin_end": -0.4,
            "bin_start": -0.5,
            "count": 0
           },
           {
            "bin_end": -0.3,
            "bin_start": -0.4,
            "count": 0
           },
           {
            "bin_end": -0.19999999999999996,
            "bin_start": -0.3,
            "count": 0
           },
           {
            "bin_end": -0.09999999999999998,
            "bin_start": -0.19999999999999996,
            "count": 0
           },
           {
            "bin_end": 0,
            "bin_start": -0.09999999999999998,
            "count": 0
           },
           {
            "bin_end": 0.10000000000000009,
            "bin_start": 0,
            "count": 5
           },
           {
            "bin_end": 0.20000000000000007,
            "bin_start": 0.10000000000000009,
            "count": 0
           },
           {
            "bin_end": 0.30000000000000004,
            "bin_start": 0.20000000000000007,
            "count": 0
           },
           {
            "bin_end": 0.4,
            "bin_start": 0.30000000000000004,
            "count": 0
           },
           {
            "bin_end": 0.5,
            "bin_start": 0.4,
            "count": 0
           }
          ],
          "max": "0",
          "min": "0",
          "nan_count": 0,
          "unique_count": 1
         }
        },
        {
         "dtype": "int64",
         "name": "_deepnote_index_column"
        }
       ],
       "row_count": 5,
       "rows": [
        {
         "ImageName": "22405.png",
         "InstanceID": "22405",
         "_deepnote_index_column": "0",
         "cellType": "0",
         "cellTypeName": "fibroblast",
         "isCancerous": "0",
         "patientID": "1"
        },
        {
         "ImageName": "22406.png",
         "InstanceID": "22406",
         "_deepnote_index_column": "1",
         "cellType": "0",
         "cellTypeName": "fibroblast",
         "isCancerous": "0",
         "patientID": "1"
        },
        {
         "ImageName": "22407.png",
         "InstanceID": "22407",
         "_deepnote_index_column": "2",
         "cellType": "0",
         "cellTypeName": "fibroblast",
         "isCancerous": "0",
         "patientID": "1"
        },
        {
         "ImageName": "22408.png",
         "InstanceID": "22408",
         "_deepnote_index_column": "3",
         "cellType": "0",
         "cellTypeName": "fibroblast",
         "isCancerous": "0",
         "patientID": "1"
        },
        {
         "ImageName": "22409.png",
         "InstanceID": "22409",
         "_deepnote_index_column": "4",
         "cellType": "0",
         "cellTypeName": "fibroblast",
         "isCancerous": "0",
         "patientID": "1"
        }
       ]
      },
      "text/html": [
       "<div>\n",
       "<style scoped>\n",
       "    .dataframe tbody tr th:only-of-type {\n",
       "        vertical-align: middle;\n",
       "    }\n",
       "\n",
       "    .dataframe tbody tr th {\n",
       "        vertical-align: top;\n",
       "    }\n",
       "\n",
       "    .dataframe thead th {\n",
       "        text-align: right;\n",
       "    }\n",
       "</style>\n",
       "<table border=\"1\" class=\"dataframe\">\n",
       "  <thead>\n",
       "    <tr style=\"text-align: right;\">\n",
       "      <th></th>\n",
       "      <th>InstanceID</th>\n",
       "      <th>patientID</th>\n",
       "      <th>ImageName</th>\n",
       "      <th>cellTypeName</th>\n",
       "      <th>cellType</th>\n",
       "      <th>isCancerous</th>\n",
       "    </tr>\n",
       "  </thead>\n",
       "  <tbody>\n",
       "    <tr>\n",
       "      <th>0</th>\n",
       "      <td>22405</td>\n",
       "      <td>1</td>\n",
       "      <td>22405.png</td>\n",
       "      <td>fibroblast</td>\n",
       "      <td>0</td>\n",
       "      <td>0</td>\n",
       "    </tr>\n",
       "    <tr>\n",
       "      <th>1</th>\n",
       "      <td>22406</td>\n",
       "      <td>1</td>\n",
       "      <td>22406.png</td>\n",
       "      <td>fibroblast</td>\n",
       "      <td>0</td>\n",
       "      <td>0</td>\n",
       "    </tr>\n",
       "    <tr>\n",
       "      <th>2</th>\n",
       "      <td>22407</td>\n",
       "      <td>1</td>\n",
       "      <td>22407.png</td>\n",
       "      <td>fibroblast</td>\n",
       "      <td>0</td>\n",
       "      <td>0</td>\n",
       "    </tr>\n",
       "    <tr>\n",
       "      <th>3</th>\n",
       "      <td>22408</td>\n",
       "      <td>1</td>\n",
       "      <td>22408.png</td>\n",
       "      <td>fibroblast</td>\n",
       "      <td>0</td>\n",
       "      <td>0</td>\n",
       "    </tr>\n",
       "    <tr>\n",
       "      <th>4</th>\n",
       "      <td>22409</td>\n",
       "      <td>1</td>\n",
       "      <td>22409.png</td>\n",
       "      <td>fibroblast</td>\n",
       "      <td>0</td>\n",
       "      <td>0</td>\n",
       "    </tr>\n",
       "  </tbody>\n",
       "</table>\n",
       "</div>"
      ],
      "text/plain": [
       "   InstanceID  patientID  ImageName cellTypeName  cellType  isCancerous\n",
       "0       22405          1  22405.png   fibroblast         0            0\n",
       "1       22406          1  22406.png   fibroblast         0            0\n",
       "2       22407          1  22407.png   fibroblast         0            0\n",
       "3       22408          1  22408.png   fibroblast         0            0\n",
       "4       22409          1  22409.png   fibroblast         0            0"
      ]
     },
     "execution_count": 5,
     "metadata": {},
     "output_type": "execute_result"
    }
   ],
   "source": [
    "df_labels.head()"
   ]
  },
  {
   "cell_type": "code",
   "execution_count": 6,
   "metadata": {
    "cell_id": "8c62a633748a4f93be21721905db63ec",
    "deepnote_cell_type": "code",
    "deepnote_to_be_reexecuted": false,
    "execution_millis": 4,
    "execution_start": 1672922787973,
    "source_hash": "6193b64a",
    "tags": []
   },
   "outputs": [
    {
     "data": {
      "application/vnd.deepnote.dataframe.v3+json": {
       "column_count": 6,
       "columns": [
        {
         "dtype": "int64",
         "name": "InstanceID",
         "stats": {
          "histogram": [
           {
            "bin_end": 1625.4,
            "bin_start": 1625,
            "count": 1
           },
           {
            "bin_end": 1625.8,
            "bin_start": 1625.4,
            "count": 0
           },
           {
            "bin_end": 1626.2,
            "bin_start": 1625.8,
            "count": 1
           },
           {
            "bin_end": 1626.6,
            "bin_start": 1626.2,
            "count": 0
           },
           {
            "bin_end": 1627,
            "bin_start": 1626.6,
            "count": 0
           },
           {
            "bin_end": 1627.4,
            "bin_start": 1627,
            "count": 1
           },
           {
            "bin_end": 1627.8,
            "bin_start": 1627.4,
            "count": 0
           },
           {
            "bin_end": 1628.2,
            "bin_start": 1627.8,
            "count": 1
           },
           {
            "bin_end": 1628.6,
            "bin_start": 1628.2,
            "count": 0
           },
           {
            "bin_end": 1629,
            "bin_start": 1628.6,
            "count": 1
           }
          ],
          "max": "1629",
          "min": "1625",
          "nan_count": 0,
          "unique_count": 5
         }
        },
        {
         "dtype": "int64",
         "name": "patientID",
         "stats": {
          "histogram": [
           {
            "bin_end": 59.6,
            "bin_start": 59.5,
            "count": 0
           },
           {
            "bin_end": 59.7,
            "bin_start": 59.6,
            "count": 0
           },
           {
            "bin_end": 59.8,
            "bin_start": 59.7,
            "count": 0
           },
           {
            "bin_end": 59.9,
            "bin_start": 59.8,
            "count": 0
           },
           {
            "bin_end": 60,
            "bin_start": 59.9,
            "count": 0
           },
           {
            "bin_end": 60.1,
            "bin_start": 60,
            "count": 5
           },
           {
            "bin_end": 60.2,
            "bin_start": 60.1,
            "count": 0
           },
           {
            "bin_end": 60.3,
            "bin_start": 60.2,
            "count": 0
           },
           {
            "bin_end": 60.4,
            "bin_start": 60.3,
            "count": 0
           },
           {
            "bin_end": 60.5,
            "bin_start": 60.4,
            "count": 0
           }
          ],
          "max": "60",
          "min": "60",
          "nan_count": 0,
          "unique_count": 1
         }
        },
        {
         "dtype": "object",
         "name": "ImageName",
         "stats": {
          "categories": [
           {
            "count": 1,
            "name": "1625.png"
           },
           {
            "count": 1,
            "name": "1626.png"
           },
           {
            "count": 3,
            "name": "3 others"
           }
          ],
          "nan_count": 0,
          "unique_count": 5
         }
        },
        {
         "dtype": "object",
         "name": "cellTypeName",
         "stats": {
          "categories": [
           {
            "count": 5,
            "name": "epithelial"
           }
          ],
          "nan_count": 0,
          "unique_count": 1
         }
        },
        {
         "dtype": "int64",
         "name": "cellType",
         "stats": {
          "histogram": [
           {
            "bin_end": 1.6,
            "bin_start": 1.5,
            "count": 0
           },
           {
            "bin_end": 1.7,
            "bin_start": 1.6,
            "count": 0
           },
           {
            "bin_end": 1.8,
            "bin_start": 1.7,
            "count": 0
           },
           {
            "bin_end": 1.9,
            "bin_start": 1.8,
            "count": 0
           },
           {
            "bin_end": 2,
            "bin_start": 1.9,
            "count": 0
           },
           {
            "bin_end": 2.1,
            "bin_start": 2,
            "count": 5
           },
           {
            "bin_end": 2.2,
            "bin_start": 2.1,
            "count": 0
           },
           {
            "bin_end": 2.3,
            "bin_start": 2.2,
            "count": 0
           },
           {
            "bin_end": 2.4,
            "bin_start": 2.3,
            "count": 0
           },
           {
            "bin_end": 2.5,
            "bin_start": 2.4,
            "count": 0
           }
          ],
          "max": "2",
          "min": "2",
          "nan_count": 0,
          "unique_count": 1
         }
        },
        {
         "dtype": "int64",
         "name": "isCancerous",
         "stats": {
          "histogram": [
           {
            "bin_end": 0.6,
            "bin_start": 0.5,
            "count": 0
           },
           {
            "bin_end": 0.7,
            "bin_start": 0.6,
            "count": 0
           },
           {
            "bin_end": 0.8,
            "bin_start": 0.7,
            "count": 0
           },
           {
            "bin_end": 0.9,
            "bin_start": 0.8,
            "count": 0
           },
           {
            "bin_end": 1,
            "bin_start": 0.9,
            "count": 0
           },
           {
            "bin_end": 1.1,
            "bin_start": 1,
            "count": 5
           },
           {
            "bin_end": 1.2000000000000002,
            "bin_start": 1.1,
            "count": 0
           },
           {
            "bin_end": 1.3,
            "bin_start": 1.2000000000000002,
            "count": 0
           },
           {
            "bin_end": 1.4,
            "bin_start": 1.3,
            "count": 0
           },
           {
            "bin_end": 1.5,
            "bin_start": 1.4,
            "count": 0
           }
          ],
          "max": "1",
          "min": "1",
          "nan_count": 0,
          "unique_count": 1
         }
        },
        {
         "dtype": "int64",
         "name": "_deepnote_index_column"
        }
       ],
       "row_count": 5,
       "rows": [
        {
         "ImageName": "1625.png",
         "InstanceID": "1625",
         "_deepnote_index_column": "9891",
         "cellType": "2",
         "cellTypeName": "epithelial",
         "isCancerous": "1",
         "patientID": "60"
        },
        {
         "ImageName": "1626.png",
         "InstanceID": "1626",
         "_deepnote_index_column": "9892",
         "cellType": "2",
         "cellTypeName": "epithelial",
         "isCancerous": "1",
         "patientID": "60"
        },
        {
         "ImageName": "1627.png",
         "InstanceID": "1627",
         "_deepnote_index_column": "9893",
         "cellType": "2",
         "cellTypeName": "epithelial",
         "isCancerous": "1",
         "patientID": "60"
        },
        {
         "ImageName": "1628.png",
         "InstanceID": "1628",
         "_deepnote_index_column": "9894",
         "cellType": "2",
         "cellTypeName": "epithelial",
         "isCancerous": "1",
         "patientID": "60"
        },
        {
         "ImageName": "1629.png",
         "InstanceID": "1629",
         "_deepnote_index_column": "9895",
         "cellType": "2",
         "cellTypeName": "epithelial",
         "isCancerous": "1",
         "patientID": "60"
        }
       ]
      },
      "text/html": [
       "<div>\n",
       "<style scoped>\n",
       "    .dataframe tbody tr th:only-of-type {\n",
       "        vertical-align: middle;\n",
       "    }\n",
       "\n",
       "    .dataframe tbody tr th {\n",
       "        vertical-align: top;\n",
       "    }\n",
       "\n",
       "    .dataframe thead th {\n",
       "        text-align: right;\n",
       "    }\n",
       "</style>\n",
       "<table border=\"1\" class=\"dataframe\">\n",
       "  <thead>\n",
       "    <tr style=\"text-align: right;\">\n",
       "      <th></th>\n",
       "      <th>InstanceID</th>\n",
       "      <th>patientID</th>\n",
       "      <th>ImageName</th>\n",
       "      <th>cellTypeName</th>\n",
       "      <th>cellType</th>\n",
       "      <th>isCancerous</th>\n",
       "    </tr>\n",
       "  </thead>\n",
       "  <tbody>\n",
       "    <tr>\n",
       "      <th>9891</th>\n",
       "      <td>1625</td>\n",
       "      <td>60</td>\n",
       "      <td>1625.png</td>\n",
       "      <td>epithelial</td>\n",
       "      <td>2</td>\n",
       "      <td>1</td>\n",
       "    </tr>\n",
       "    <tr>\n",
       "      <th>9892</th>\n",
       "      <td>1626</td>\n",
       "      <td>60</td>\n",
       "      <td>1626.png</td>\n",
       "      <td>epithelial</td>\n",
       "      <td>2</td>\n",
       "      <td>1</td>\n",
       "    </tr>\n",
       "    <tr>\n",
       "      <th>9893</th>\n",
       "      <td>1627</td>\n",
       "      <td>60</td>\n",
       "      <td>1627.png</td>\n",
       "      <td>epithelial</td>\n",
       "      <td>2</td>\n",
       "      <td>1</td>\n",
       "    </tr>\n",
       "    <tr>\n",
       "      <th>9894</th>\n",
       "      <td>1628</td>\n",
       "      <td>60</td>\n",
       "      <td>1628.png</td>\n",
       "      <td>epithelial</td>\n",
       "      <td>2</td>\n",
       "      <td>1</td>\n",
       "    </tr>\n",
       "    <tr>\n",
       "      <th>9895</th>\n",
       "      <td>1629</td>\n",
       "      <td>60</td>\n",
       "      <td>1629.png</td>\n",
       "      <td>epithelial</td>\n",
       "      <td>2</td>\n",
       "      <td>1</td>\n",
       "    </tr>\n",
       "  </tbody>\n",
       "</table>\n",
       "</div>"
      ],
      "text/plain": [
       "      InstanceID  patientID ImageName cellTypeName  cellType  isCancerous\n",
       "9891        1625         60  1625.png   epithelial         2            1\n",
       "9892        1626         60  1626.png   epithelial         2            1\n",
       "9893        1627         60  1627.png   epithelial         2            1\n",
       "9894        1628         60  1628.png   epithelial         2            1\n",
       "9895        1629         60  1629.png   epithelial         2            1"
      ]
     },
     "execution_count": 6,
     "metadata": {},
     "output_type": "execute_result"
    }
   ],
   "source": [
    "df_labels.tail()"
   ]
  },
  {
   "cell_type": "markdown",
   "metadata": {
    "cell_id": "a62ebd13388d476da70cecf63e681d16",
    "deepnote_cell_type": "markdown",
    "tags": []
   },
   "source": [
    "## 2. Data description"
   ]
  },
  {
   "cell_type": "markdown",
   "metadata": {
    "cell_id": "45058f9f40664edd890602afa7d37059",
    "deepnote_cell_type": "markdown",
    "tags": []
   },
   "source": [
    "### 2.1 Description of dataset : \n",
    "#### Label dataset :\n",
    "- `InstanceID`: The unique ID assign to each of the row in the dataset.\n",
    "- `patientID` : The unique ID assign to each patient\n",
    "- `ImageName` : Name of the corresponding image in the `patch_images` folder\n",
    "- `cellTypeName` : The label of the cell identified in the image\n",
    "- `cellType`: Encoded value of the`cellTypeName` variables\n",
    "- `isCancerous` : Binary variables indicating if the cell is cancer or not \n",
    "\n",
    "#### Extra dataset : \n",
    "- `InstanceID`: The unique ID assign to each of the row in the dataset.\n",
    "- `patientID` : The unique ID assign to each patient\n",
    "- `ImageName` : Name of the corresponding image in the `patch_images` folder\n",
    "- `isCancerous` : Binary variables indicating if the cell is cancer or not \n",
    "\n"
   ]
  },
  {
   "cell_type": "code",
   "execution_count": 7,
   "metadata": {
    "cell_id": "949edd8802144977921876f4edd83879",
    "deepnote_cell_type": "code",
    "deepnote_to_be_reexecuted": false,
    "execution_millis": 3,
    "execution_start": 1672922787982,
    "source_hash": "6f95c6a4",
    "tags": []
   },
   "outputs": [
    {
     "name": "stdout",
     "output_type": "stream",
     "text": [
      "<class 'pandas.core.frame.DataFrame'>\n",
      "RangeIndex: 9896 entries, 0 to 9895\n",
      "Data columns (total 6 columns):\n",
      " #   Column        Non-Null Count  Dtype \n",
      "---  ------        --------------  ----- \n",
      " 0   InstanceID    9896 non-null   int64 \n",
      " 1   patientID     9896 non-null   int64 \n",
      " 2   ImageName     9896 non-null   object\n",
      " 3   cellTypeName  9896 non-null   object\n",
      " 4   cellType      9896 non-null   int64 \n",
      " 5   isCancerous   9896 non-null   int64 \n",
      "dtypes: int64(4), object(2)\n",
      "memory usage: 464.0+ KB\n"
     ]
    }
   ],
   "source": [
    "df_labels.info()"
   ]
  },
  {
   "cell_type": "code",
   "execution_count": 8,
   "metadata": {
    "cell_id": "4af6c7cfdb1a41c5b7f959e369f06b60",
    "deepnote_cell_type": "code",
    "deepnote_to_be_reexecuted": false,
    "execution_millis": 1,
    "execution_start": 1672922787993,
    "source_hash": "3a583fb",
    "tags": []
   },
   "outputs": [
    {
     "name": "stdout",
     "output_type": "stream",
     "text": [
      "<class 'pandas.core.frame.DataFrame'>\n",
      "RangeIndex: 10384 entries, 0 to 10383\n",
      "Data columns (total 4 columns):\n",
      " #   Column       Non-Null Count  Dtype \n",
      "---  ------       --------------  ----- \n",
      " 0   InstanceID   10384 non-null  int64 \n",
      " 1   patientID    10384 non-null  int64 \n",
      " 2   ImageName    10384 non-null  object\n",
      " 3   isCancerous  10384 non-null  int64 \n",
      "dtypes: int64(3), object(1)\n",
      "memory usage: 324.6+ KB\n"
     ]
    }
   ],
   "source": [
    "df_extra.info()"
   ]
  },
  {
   "cell_type": "markdown",
   "metadata": {
    "cell_id": "066828b4a0a24936bee31c9356e9d57d",
    "deepnote_cell_type": "markdown",
    "tags": []
   },
   "source": [
    "As we can observe there are 9896 data point for the lable dataset and 10384 data point for the extra dataset.\n",
    "<br>\n",
    "Both dataset have `instanceID`,`patientID`, `isCancerous` which have the datatype is `int64` and `ImageName` is `object` datatype. Additionally, th labels dataset have information about `cellType` and `cellTypeName`."
   ]
  },
  {
   "cell_type": "markdown",
   "metadata": {
    "cell_id": "c3221cc8380f403bbcd36b73de0dc78f",
    "deepnote_cell_type": "markdown",
    "tags": []
   },
   "source": [
    "### 2.2 Variable type classification\n",
    "#### Categorical Variable\n",
    "- Norminal\n",
    "Label dataset : `isCancerous` (binary categorical), `cellTypeName`, `cellType` (encoded categorical)\n",
    "Extra dataset: `isCancerous` (binary categorical)\n",
    "- Ordinal : No ordinal Variable is found in both datset\n",
    "\n",
    "#### Numerical Variable :\n",
    "- Continous\n",
    "Label dataset : `InstanceID`,`patientID`\n",
    "Extra dataset : `InstanceID`,`patientID`\n",
    "\n",
    "\n",
    "\n"
   ]
  },
  {
   "cell_type": "markdown",
   "metadata": {
    "cell_id": "d4dc0992ceae437590b8d21851675619",
    "deepnote_cell_type": "markdown",
    "tags": []
   },
   "source": [
    "### 3. Data cleaning"
   ]
  },
  {
   "cell_type": "markdown",
   "metadata": {
    "cell_id": "3a29c7a5c74342abbc8c2e3adaacdc92",
    "deepnote_cell_type": "markdown",
    "tags": []
   },
   "source": [
    "#### Inspect null value"
   ]
  },
  {
   "cell_type": "code",
   "execution_count": 9,
   "metadata": {
    "cell_id": "1f10d24f72a442bd873c7bca0fc3e996",
    "deepnote_cell_type": "code",
    "deepnote_to_be_reexecuted": false,
    "execution_millis": 2,
    "execution_start": 1672922787995,
    "source_hash": "ff7b0932",
    "tags": []
   },
   "outputs": [],
   "source": [
    "def null_count(input_df) :\n",
    "    res = input_df.isna().sum()\n",
    "    print(\"Null count\")\n",
    "    print(res)"
   ]
  },
  {
   "cell_type": "code",
   "execution_count": 10,
   "metadata": {
    "cell_id": "02ce352a59f04d3fb10efcf255b415d3",
    "deepnote_cell_type": "code",
    "deepnote_to_be_reexecuted": false,
    "execution_millis": 7,
    "execution_start": 1672922788000,
    "source_hash": "7ee6c7cf",
    "tags": []
   },
   "outputs": [
    {
     "name": "stdout",
     "output_type": "stream",
     "text": [
      "Null count\n",
      "InstanceID      0\n",
      "patientID       0\n",
      "ImageName       0\n",
      "cellTypeName    0\n",
      "cellType        0\n",
      "isCancerous     0\n",
      "dtype: int64\n"
     ]
    }
   ],
   "source": [
    "null_count(df_labels)"
   ]
  },
  {
   "cell_type": "code",
   "execution_count": 11,
   "metadata": {
    "cell_id": "44fa57b3f5514fa2b648f4744a018b26",
    "deepnote_cell_type": "code",
    "deepnote_to_be_reexecuted": false,
    "execution_millis": 7,
    "execution_start": 1672922788005,
    "source_hash": "6a5c8ad",
    "tags": []
   },
   "outputs": [
    {
     "name": "stdout",
     "output_type": "stream",
     "text": [
      "Null count\n",
      "InstanceID     0\n",
      "patientID      0\n",
      "ImageName      0\n",
      "isCancerous    0\n",
      "dtype: int64\n"
     ]
    }
   ],
   "source": [
    "null_count(df_extra)"
   ]
  },
  {
   "cell_type": "markdown",
   "metadata": {
    "cell_id": "1de5228e33404ddd916cbf04f697912d",
    "deepnote_cell_type": "markdown",
    "tags": []
   },
   "source": [
    "As can be observe, there is no null value in both dataset"
   ]
  },
  {
   "cell_type": "markdown",
   "metadata": {
    "cell_id": "9c020e12536c40588e9b82d1ece5dc92",
    "deepnote_cell_type": "markdown",
    "deepnote_to_be_reexecuted": false,
    "execution_millis": 0,
    "execution_start": 1672567223329,
    "source_hash": "fd34c0b7",
    "tags": []
   },
   "source": [
    "#### Remove trailing white space\n",
    "Remove trailing white space in columns that have `object` as a data type"
   ]
  },
  {
   "cell_type": "code",
   "execution_count": 12,
   "metadata": {
    "cell_id": "2c634e41dbcb4b0e917af80752f46f0a",
    "deepnote_cell_type": "code",
    "deepnote_to_be_reexecuted": false,
    "execution_millis": 2,
    "execution_start": 1672922788012,
    "source_hash": "c20cc31f",
    "tags": []
   },
   "outputs": [],
   "source": [
    "def trip_whitespace(input_df) :\n",
    "    for i in input_df.columns :\n",
    "        if input_df[i].dtype == 'object' :\n",
    "           input_df[i] = input_df[i].apply(lambda x: x.strip())\n",
    "    return input_df"
   ]
  },
  {
   "cell_type": "code",
   "execution_count": 13,
   "metadata": {
    "cell_id": "91ff778fa9e74612a94b671ba5e58fa0",
    "deepnote_cell_type": "code",
    "deepnote_to_be_reexecuted": false,
    "execution_millis": 2,
    "execution_start": 1672922788018,
    "source_hash": "1b77b8ac",
    "tags": []
   },
   "outputs": [],
   "source": [
    "df_labels = trip_whitespace(df_labels)"
   ]
  },
  {
   "cell_type": "code",
   "execution_count": 14,
   "metadata": {
    "cell_id": "8d93e43056e9426881e9be3bb9698a8c",
    "deepnote_cell_type": "code",
    "deepnote_to_be_reexecuted": false,
    "execution_millis": 6,
    "execution_start": 1672922788022,
    "source_hash": "f503c00f",
    "tags": []
   },
   "outputs": [],
   "source": [
    "df_extra = trip_whitespace(df_extra)"
   ]
  },
  {
   "cell_type": "code",
   "execution_count": 15,
   "metadata": {
    "cell_id": "7cc93a0c6bbb416eacc61d351767c16d",
    "deepnote_cell_type": "code",
    "deepnote_to_be_reexecuted": false,
    "execution_millis": 0,
    "execution_start": 1672922788029,
    "source_hash": "9bd155c5",
    "tags": []
   },
   "outputs": [],
   "source": [
    "#Convert column header into lowercase\n",
    "df_extra.columns= df_extra.columns.str.lower()\n",
    "df_extra.columns = df_extra.columns.str.strip()\n",
    "df_labels.columns= df_labels.columns.str.lower()\n",
    "df_labels.columns = df_labels.columns.str.strip()"
   ]
  },
  {
   "cell_type": "markdown",
   "metadata": {
    "cell_id": "cd59329bbc59458ba9a2aa381c365d52",
    "deepnote_cell_type": "markdown",
    "deepnote_to_be_reexecuted": false,
    "execution_millis": 2,
    "execution_start": 1672576969312,
    "source_hash": "e6180abb",
    "tags": []
   },
   "source": [
    "#### Convert all of the string row into lowercase"
   ]
  },
  {
   "cell_type": "code",
   "execution_count": 16,
   "metadata": {
    "cell_id": "2272b6146f304b58afcfb81daca9a987",
    "deepnote_cell_type": "code",
    "deepnote_to_be_reexecuted": false,
    "execution_millis": 3,
    "execution_start": 1672922788033,
    "source_hash": "a9cf75db",
    "tags": []
   },
   "outputs": [],
   "source": [
    "def lowercase_row(input_df) :\n",
    "    for i in input_df.columns :\n",
    "        if input_df[i].dtype == 'object' :\n",
    "           input_df[i] = input_df[i].apply(lambda x: x.lower())\n",
    "    return input_df"
   ]
  },
  {
   "cell_type": "code",
   "execution_count": 17,
   "metadata": {
    "cell_id": "598b0c36e6264a08b0a6422baf5cf6c0",
    "deepnote_cell_type": "code",
    "deepnote_to_be_reexecuted": false,
    "execution_millis": 4,
    "execution_start": 1672922788038,
    "source_hash": "50de58e4",
    "tags": []
   },
   "outputs": [],
   "source": [
    "df_extra = lowercase_row(df_extra)"
   ]
  },
  {
   "cell_type": "code",
   "execution_count": 18,
   "metadata": {
    "cell_id": "24ee8311002d49689167403429aced1d",
    "deepnote_cell_type": "code",
    "deepnote_to_be_reexecuted": false,
    "execution_millis": 4,
    "execution_start": 1672922788044,
    "source_hash": "90b57172",
    "tags": []
   },
   "outputs": [],
   "source": [
    "df_labels = lowercase_row(df_labels)"
   ]
  },
  {
   "cell_type": "code",
   "execution_count": 19,
   "metadata": {
    "cell_id": "c1383081b202403e8dbdf09b3519db7c",
    "deepnote_cell_type": "code",
    "deepnote_to_be_reexecuted": false,
    "execution_millis": 8,
    "execution_start": 1672922788083,
    "source_hash": "3a583fb",
    "tags": []
   },
   "outputs": [
    {
     "name": "stdout",
     "output_type": "stream",
     "text": [
      "<class 'pandas.core.frame.DataFrame'>\n",
      "RangeIndex: 10384 entries, 0 to 10383\n",
      "Data columns (total 4 columns):\n",
      " #   Column       Non-Null Count  Dtype \n",
      "---  ------       --------------  ----- \n",
      " 0   instanceid   10384 non-null  int64 \n",
      " 1   patientid    10384 non-null  int64 \n",
      " 2   imagename    10384 non-null  object\n",
      " 3   iscancerous  10384 non-null  int64 \n",
      "dtypes: int64(3), object(1)\n",
      "memory usage: 324.6+ KB\n"
     ]
    }
   ],
   "source": [
    "df_extra.info()"
   ]
  },
  {
   "cell_type": "code",
   "execution_count": 20,
   "metadata": {
    "cell_id": "8c29102457e746a7a82f12c1ce7ef2d5",
    "deepnote_cell_type": "code",
    "deepnote_to_be_reexecuted": false,
    "execution_millis": 5,
    "execution_start": 1672922788088,
    "source_hash": "6f95c6a4",
    "tags": []
   },
   "outputs": [
    {
     "name": "stdout",
     "output_type": "stream",
     "text": [
      "<class 'pandas.core.frame.DataFrame'>\n",
      "RangeIndex: 9896 entries, 0 to 9895\n",
      "Data columns (total 6 columns):\n",
      " #   Column        Non-Null Count  Dtype \n",
      "---  ------        --------------  ----- \n",
      " 0   instanceid    9896 non-null   int64 \n",
      " 1   patientid     9896 non-null   int64 \n",
      " 2   imagename     9896 non-null   object\n",
      " 3   celltypename  9896 non-null   object\n",
      " 4   celltype      9896 non-null   int64 \n",
      " 5   iscancerous   9896 non-null   int64 \n",
      "dtypes: int64(4), object(2)\n",
      "memory usage: 464.0+ KB\n"
     ]
    }
   ],
   "source": [
    "df_labels.info()"
   ]
  },
  {
   "cell_type": "markdown",
   "metadata": {
    "cell_id": "8402cea9e1514de78c855730d54e7a43",
    "deepnote_cell_type": "markdown",
    "tags": []
   },
   "source": [
    "#### Detect corrupt image"
   ]
  },
  {
   "cell_type": "code",
   "execution_count": 21,
   "metadata": {
    "cell_id": "7b7cb2c75fca40999fe0cad4f0195c79",
    "deepnote_cell_type": "code",
    "deepnote_to_be_reexecuted": false,
    "execution_millis": 8943,
    "execution_start": 1672922788090,
    "source_hash": "b424dde3",
    "tags": []
   },
   "outputs": [
    {
     "name": "stderr",
     "output_type": "stream",
     "text": [
      "/tmp/ipykernel_646/1762920075.py:11: DeprecationWarning: Starting with ImageIO v3 the behavior of this function will switch to that of iio.v3.imread. To keep the current behavior (and make this warning disappear) use `import imageio.v2 as imageio` or call `imageio.v2.imread` directly.\n",
      "  image = imageio.imread(image_file)\n"
     ]
    }
   ],
   "source": [
    "from pathlib import Path\n",
    "import imageio\n",
    "\n",
    "# dataset_path = '/work/patch_images'\n",
    "\n",
    "corrupted_image = list()\n",
    "dataset_path = './patch_images'\n",
    "accu = 0\n",
    "\n",
    "for image_file in Path(dataset_path).glob('*.png'):\n",
    "  accu = accu + 1\n",
    "  try :\n",
    "      image = imageio.imread(image_file)\n",
    "    #   print(f'read {image_file}')\n",
    "  except :\n",
    "      print(f'Cannot read image {image_file}')\n",
    "      corrupted_image.add(image_file)\n",
    "print(\"Total number of images : \", accu)"
   ]
  },
  {
   "cell_type": "code",
   "execution_count": 22,
   "metadata": {
    "cell_id": "c39491b4dc644946b3c0da8ece483dee",
    "deepnote_cell_type": "code",
    "deepnote_to_be_reexecuted": false,
    "execution_millis": 43,
    "execution_start": 1672922797036,
    "source_hash": "7c73fbbc",
    "tags": []
   },
   "outputs": [
    {
     "data": {
      "text/plain": [
       "0"
      ]
     },
     "execution_count": 22,
     "metadata": {},
     "output_type": "execute_result"
    }
   ],
   "source": [
    "len(corrupted_image)"
   ]
  },
  {
   "cell_type": "markdown",
   "metadata": {
    "cell_id": "258e7da2189b45738169d35a260bbfc7",
    "deepnote_cell_type": "markdown",
    "tags": []
   },
   "source": [
    "#### Image duplication detection"
   ]
  },
  {
   "cell_type": "code",
   "execution_count": null,
   "metadata": {},
   "outputs": [],
   "source": [
    "!pip install imagededup"
   ]
  },
  {
   "cell_type": "code",
   "execution_count": 24,
   "metadata": {
    "cell_id": "9d279441058a4f63995752f120a7746c",
    "deepnote_cell_type": "code",
    "deepnote_to_be_reexecuted": false,
    "execution_millis": 161303,
    "execution_start": 1672922797325,
    "source_hash": "a616d0bf",
    "tags": []
   },
   "outputs": [
    {
     "name": "stderr",
     "output_type": "stream",
     "text": [
      "/shared-libs/python3.9/py/lib/python3.9/site-packages/tqdm/auto.py:22: TqdmWarning: IProgress not found. Please update jupyter and ipywidgets. See https://ipywidgets.readthedocs.io/en/stable/user_install.html\n",
      "  from .autonotebook import tqdm as notebook_tqdm\n",
      "2023-01-05 12:46:38,546: INFO Start: Calculating hashes...\n",
      "100%|██████████| 20280/20280 [00:01<00:00, 11258.20it/s]\n",
      "2023-01-05 12:46:40,636: INFO End: Calculating hashes!\n",
      "2023-01-05 12:46:40,639: INFO Start: Evaluating hamming distances for getting duplicates\n",
      "2023-01-05 12:46:40,640: INFO Start: Retrieving duplicates using Cython Brute force algorithm\n",
      "100%|██████████| 20280/20280 [01:19<00:00, 256.25it/s]\n",
      "2023-01-05 12:47:59,883: INFO End: Retrieving duplicates using Cython Brute force algorithm\n",
      "2023-01-05 12:47:59,883: INFO End: Evaluating hamming distances for getting duplicates\n",
      "2023-01-05 12:47:59,895: INFO Start: Evaluating hamming distances for getting duplicates\n",
      "2023-01-05 12:47:59,896: INFO Start: Retrieving duplicates using Cython Brute force algorithm\n",
      "100%|██████████| 20280/20280 [01:18<00:00, 258.33it/s]\n",
      "2023-01-05 12:49:18,617: INFO End: Retrieving duplicates using Cython Brute force algorithm\n",
      "2023-01-05 12:49:18,618: INFO End: Evaluating hamming distances for getting duplicates\n"
     ]
    }
   ],
   "source": [
    "from imagededup.methods import DHash\n",
    "dhash_phaser = DHash()\n",
    "encodings = dhash_phaser.encode_images(image_dir='./patch_images')\n",
    "duplicates = dhash_phaser.find_duplicates_to_remove(encoding_map=encodings)\n",
    "duplicates_map = dhash_phaser.find_duplicates(encoding_map=encodings)"
   ]
  },
  {
   "cell_type": "code",
   "execution_count": 25,
   "metadata": {
    "cell_id": "b89c78b0b3b04998ab8a8eeb8b904216",
    "deepnote_cell_type": "code",
    "deepnote_to_be_reexecuted": false,
    "execution_millis": 202,
    "execution_start": 1672922958630,
    "source_hash": "de807379",
    "tags": []
   },
   "outputs": [
    {
     "data": {
      "image/png": "[encoded data removed]",
      "text/plain": [
       "<Figure size 640x480 with 2 Axes>"
      ]
     },
     "metadata": {
      "image/png": {
       "height": 381,
       "width": 379
      }
     },
     "output_type": "display_data"
    }
   ],
   "source": [
    "\n",
    "\n",
    "# plot duplicates obtained for a given file using the duplicates dictionary\n",
    "from imagededup.utils import plot_duplicates\n",
    "plot_duplicates(image_dir='./patch_images',\n",
    "                duplicate_map=duplicates_map,\n",
    "                filename='20820.png')"
   ]
  },
  {
   "cell_type": "code",
   "execution_count": 26,
   "metadata": {
    "cell_id": "f281ad06e1d54e13b8d55cd345b1c6e3",
    "deepnote_cell_type": "code",
    "deepnote_to_be_reexecuted": false,
    "execution_millis": 0,
    "execution_start": 1672922958825,
    "source_hash": "2d9497bc",
    "tags": []
   },
   "outputs": [],
   "source": [
    "# Remove duplicate value from the list\n",
    "res = list(dict.fromkeys(duplicates))"
   ]
  },
  {
   "cell_type": "code",
   "execution_count": 27,
   "metadata": {
    "cell_id": "8cd8093cf80e4886beaeff6b2ac18195",
    "deepnote_cell_type": "code",
    "deepnote_to_be_reexecuted": false,
    "execution_millis": 7,
    "execution_start": 1672922958825,
    "source_hash": "7388e03d",
    "tags": []
   },
   "outputs": [
    {
     "data": {
      "text/plain": [
       "183"
      ]
     },
     "execution_count": 27,
     "metadata": {},
     "output_type": "execute_result"
    }
   ],
   "source": [
    "len(res)"
   ]
  },
  {
   "cell_type": "code",
   "execution_count": 28,
   "metadata": {
    "cell_id": "cf63d7d5aef74b859bcbd9191e73e73f",
    "deepnote_cell_type": "code",
    "deepnote_to_be_reexecuted": false,
    "execution_millis": 6,
    "execution_start": 1672922958826,
    "source_hash": "3e2e9b09",
    "tags": []
   },
   "outputs": [
    {
     "name": "stdout",
     "output_type": "stream",
     "text": [
      "['1913.png', '21747.png', '2171.png', '15348.png', '21772.png', '12238.png', '12030.png', '19433.png', '19179.png', '17888.png', '22188.png', '3249.png', '20388.png', '12032.png', '184.png', '19481.png', '4721.png', '12950.png', '17363.png', '10999.png', '13140.png', '20392.png', '22210.png', '3509.png', '14590.png', '4133.png', '10255.png', '1294.png', '20704.png', '8759.png', '20678.png', '981.png', '8239.png', '18580.png', '14649.png', '20204.png', '20955.png', '17157.png', '775.png', '20106.png', '20676.png', '12697.png', '14129.png', '3949.png', '16419.png', '15162.png', '18613.png', '2526.png', '9223.png', '20041.png', '22350.png', '7185.png', '14780.png', '12949.png', '17189.png', '4141.png', '20545.png', '20032.png', '11445.png', '11026.png', '9996.png', '5100.png', '5138.png', '9894.png', '1890.png', '16956.png', '15799.png', '6792.png', '20926.png', '18199.png', '4148.png', '153.png', '1662.png', '9983.png', '4692.png', '15275.png', '21270.png', '12321.png', '2019.png', '919.png', '22072.png', '1690.png', '972.png', '20761.png', '13247.png', '19110.png', '18994.png', '18098.png', '9276.png', '2307.png', '6494.png', '30.png', '12284.png', '5120.png', '20794.png', '4211.png', '10395.png', '20233.png', '15325.png', '4138.png', '10608.png', '20147.png', '18310.png', '1153.png', '2542.png', '5144.png', '29.png', '1084.png', '18930.png', '17504.png', '15485.png', '18192.png', '14121.png', '20056.png', '4190.png', '3899.png', '22190.png', '20311.png', '20225.png', '15995.png', '4804.png', '16136.png', '245.png', '19696.png', '15949.png', '20134.png', '13282.png', '378.png', '6257.png', '13349.png', '15494.png', '19734.png', '20297.png', '1632.png', '19224.png', '21960.png', '28.png', '739.png', '12145.png', '21625.png', '18438.png', '4216.png', '2998.png', '18493.png', '254.png', '11695.png', '21195.png', '15435.png', '6960.png', '3003.png', '4256.png', '7856.png', '10312.png', '10072.png', '6268.png', '14933.png', '10819.png', '18612.png', '21663.png', '20120.png', '12078.png', '13263.png', '8128.png', '20820.png', '13677.png', '20952.png', '12722.png', '4107.png', '15080.png', '10292.png', '1077.png', '15113.png', '19557.png', '4157.png', '277.png', '7703.png', '15482.png', '6285.png', '10278.png', '7114.png', '4199.png', '17174.png', '15837.png']\n"
     ]
    }
   ],
   "source": [
    "print(res)"
   ]
  },
  {
   "cell_type": "markdown",
   "metadata": {
    "cell_id": "d1bb186d5d6a415590631d43ab057c65",
    "deepnote_cell_type": "markdown",
    "tags": []
   },
   "source": [
    "After retrieve duplicates image list, we filter every images to the array"
   ]
  },
  {
   "cell_type": "code",
   "execution_count": 29,
   "metadata": {
    "cell_id": "057069c2dd6442a38e976bde12549287",
    "deepnote_cell_type": "code",
    "deepnote_to_be_reexecuted": false,
    "execution_millis": 42,
    "execution_start": 1672922958829,
    "source_hash": "35fcb7b8",
    "tags": []
   },
   "outputs": [
    {
     "data": {
      "application/vnd.deepnote.dataframe.v3+json": {
       "column_count": 6,
       "columns": [
        {
         "dtype": "int64",
         "name": "instanceid",
         "stats": {
          "histogram": [
           {
            "bin_end": 22405.4,
            "bin_start": 22405,
            "count": 1
           },
           {
            "bin_end": 22405.8,
            "bin_start": 22405.4,
            "count": 0
           },
           {
            "bin_end": 22406.2,
            "bin_start": 22405.8,
            "count": 1
           },
           {
            "bin_end": 22406.6,
            "bin_start": 22406.2,
            "count": 0
           },
           {
            "bin_end": 22407,
            "bin_start": 22406.6,
            "count": 0
           },
           {
            "bin_end": 22407.4,
            "bin_start": 22407,
            "count": 1
           },
           {
            "bin_end": 22407.8,
            "bin_start": 22407.4,
            "count": 0
           },
           {
            "bin_end": 22408.2,
            "bin_start": 22407.8,
            "count": 1
           },
           {
            "bin_end": 22408.6,
            "bin_start": 22408.2,
            "count": 0
           },
           {
            "bin_end": 22409,
            "bin_start": 22408.6,
            "count": 1
           }
          ],
          "max": "22409",
          "min": "22405",
          "nan_count": 0,
          "unique_count": 5
         }
        },
        {
         "dtype": "int64",
         "name": "patientid",
         "stats": {
          "histogram": [
           {
            "bin_end": 0.6,
            "bin_start": 0.5,
            "count": 0
           },
           {
            "bin_end": 0.7,
            "bin_start": 0.6,
            "count": 0
           },
           {
            "bin_end": 0.8,
            "bin_start": 0.7,
            "count": 0
           },
           {
            "bin_end": 0.9,
            "bin_start": 0.8,
            "count": 0
           },
           {
            "bin_end": 1,
            "bin_start": 0.9,
            "count": 0
           },
           {
            "bin_end": 1.1,
            "bin_start": 1,
            "count": 5
           },
           {
            "bin_end": 1.2000000000000002,
            "bin_start": 1.1,
            "count": 0
           },
           {
            "bin_end": 1.3,
            "bin_start": 1.2000000000000002,
            "count": 0
           },
           {
            "bin_end": 1.4,
            "bin_start": 1.3,
            "count": 0
           },
           {
            "bin_end": 1.5,
            "bin_start": 1.4,
            "count": 0
           }
          ],
          "max": "1",
          "min": "1",
          "nan_count": 0,
          "unique_count": 1
         }
        },
        {
         "dtype": "object",
         "name": "imagename",
         "stats": {
          "categories": [
           {
            "count": 1,
            "name": "22405.png"
           },
           {
            "count": 1,
            "name": "22406.png"
           },
           {
            "count": 3,
            "name": "3 others"
           }
          ],
          "nan_count": 0,
          "unique_count": 5
         }
        },
        {
         "dtype": "object",
         "name": "celltypename",
         "stats": {
          "categories": [
           {
            "count": 5,
            "name": "fibroblast"
           }
          ],
          "nan_count": 0,
          "unique_count": 1
         }
        },
        {
         "dtype": "int64",
         "name": "celltype",
         "stats": {
          "histogram": [
           {
            "bin_end": -0.4,
            "bin_start": -0.5,
            "count": 0
           },
           {
            "bin_end": -0.3,
            "bin_start": -0.4,
            "count": 0
           },
           {
            "bin_end": -0.19999999999999996,
            "bin_start": -0.3,
            "count": 0
           },
           {
            "bin_end": -0.09999999999999998,
            "bin_start": -0.19999999999999996,
            "count": 0
           },
           {
            "bin_end": 0,
            "bin_start": -0.09999999999999998,
            "count": 0
           },
           {
            "bin_end": 0.10000000000000009,
            "bin_start": 0,
            "count": 5
           },
           {
            "bin_end": 0.20000000000000007,
            "bin_start": 0.10000000000000009,
            "count": 0
           },
           {
            "bin_end": 0.30000000000000004,
            "bin_start": 0.20000000000000007,
            "count": 0
           },
           {
            "bin_end": 0.4,
            "bin_start": 0.30000000000000004,
            "count": 0
           },
           {
            "bin_end": 0.5,
            "bin_start": 0.4,
            "count": 0
           }
          ],
          "max": "0",
          "min": "0",
          "nan_count": 0,
          "unique_count": 1
         }
        },
        {
         "dtype": "int64",
         "name": "iscancerous",
         "stats": {
          "histogram": [
           {
            "bin_end": -0.4,
            "bin_start": -0.5,
            "count": 0
           },
           {
            "bin_end": -0.3,
            "bin_start": -0.4,
            "count": 0
           },
           {
            "bin_end": -0.19999999999999996,
            "bin_start": -0.3,
            "count": 0
           },
           {
            "bin_end": -0.09999999999999998,
            "bin_start": -0.19999999999999996,
            "count": 0
           },
           {
            "bin_end": 0,
            "bin_start": -0.09999999999999998,
            "count": 0
           },
           {
            "bin_end": 0.10000000000000009,
            "bin_start": 0,
            "count": 5
           },
           {
            "bin_end": 0.20000000000000007,
            "bin_start": 0.10000000000000009,
            "count": 0
           },
           {
            "bin_end": 0.30000000000000004,
            "bin_start": 0.20000000000000007,
            "count": 0
           },
           {
            "bin_end": 0.4,
            "bin_start": 0.30000000000000004,
            "count": 0
           },
           {
            "bin_end": 0.5,
            "bin_start": 0.4,
            "count": 0
           }
          ],
          "max": "0",
          "min": "0",
          "nan_count": 0,
          "unique_count": 1
         }
        },
        {
         "dtype": "int64",
         "name": "_deepnote_index_column"
        }
       ],
       "row_count": 5,
       "rows": [
        {
         "_deepnote_index_column": "0",
         "celltype": "0",
         "celltypename": "fibroblast",
         "imagename": "22405.png",
         "instanceid": "22405",
         "iscancerous": "0",
         "patientid": "1"
        },
        {
         "_deepnote_index_column": "1",
         "celltype": "0",
         "celltypename": "fibroblast",
         "imagename": "22406.png",
         "instanceid": "22406",
         "iscancerous": "0",
         "patientid": "1"
        },
        {
         "_deepnote_index_column": "2",
         "celltype": "0",
         "celltypename": "fibroblast",
         "imagename": "22407.png",
         "instanceid": "22407",
         "iscancerous": "0",
         "patientid": "1"
        },
        {
         "_deepnote_index_column": "3",
         "celltype": "0",
         "celltypename": "fibroblast",
         "imagename": "22408.png",
         "instanceid": "22408",
         "iscancerous": "0",
         "patientid": "1"
        },
        {
         "_deepnote_index_column": "4",
         "celltype": "0",
         "celltypename": "fibroblast",
         "imagename": "22409.png",
         "instanceid": "22409",
         "iscancerous": "0",
         "patientid": "1"
        }
       ]
      },
      "text/html": [
       "<div>\n",
       "<style scoped>\n",
       "    .dataframe tbody tr th:only-of-type {\n",
       "        vertical-align: middle;\n",
       "    }\n",
       "\n",
       "    .dataframe tbody tr th {\n",
       "        vertical-align: top;\n",
       "    }\n",
       "\n",
       "    .dataframe thead th {\n",
       "        text-align: right;\n",
       "    }\n",
       "</style>\n",
       "<table border=\"1\" class=\"dataframe\">\n",
       "  <thead>\n",
       "    <tr style=\"text-align: right;\">\n",
       "      <th></th>\n",
       "      <th>instanceid</th>\n",
       "      <th>patientid</th>\n",
       "      <th>imagename</th>\n",
       "      <th>celltypename</th>\n",
       "      <th>celltype</th>\n",
       "      <th>iscancerous</th>\n",
       "    </tr>\n",
       "  </thead>\n",
       "  <tbody>\n",
       "    <tr>\n",
       "      <th>0</th>\n",
       "      <td>22405</td>\n",
       "      <td>1</td>\n",
       "      <td>22405.png</td>\n",
       "      <td>fibroblast</td>\n",
       "      <td>0</td>\n",
       "      <td>0</td>\n",
       "    </tr>\n",
       "    <tr>\n",
       "      <th>1</th>\n",
       "      <td>22406</td>\n",
       "      <td>1</td>\n",
       "      <td>22406.png</td>\n",
       "      <td>fibroblast</td>\n",
       "      <td>0</td>\n",
       "      <td>0</td>\n",
       "    </tr>\n",
       "    <tr>\n",
       "      <th>2</th>\n",
       "      <td>22407</td>\n",
       "      <td>1</td>\n",
       "      <td>22407.png</td>\n",
       "      <td>fibroblast</td>\n",
       "      <td>0</td>\n",
       "      <td>0</td>\n",
       "    </tr>\n",
       "    <tr>\n",
       "      <th>3</th>\n",
       "      <td>22408</td>\n",
       "      <td>1</td>\n",
       "      <td>22408.png</td>\n",
       "      <td>fibroblast</td>\n",
       "      <td>0</td>\n",
       "      <td>0</td>\n",
       "    </tr>\n",
       "    <tr>\n",
       "      <th>4</th>\n",
       "      <td>22409</td>\n",
       "      <td>1</td>\n",
       "      <td>22409.png</td>\n",
       "      <td>fibroblast</td>\n",
       "      <td>0</td>\n",
       "      <td>0</td>\n",
       "    </tr>\n",
       "  </tbody>\n",
       "</table>\n",
       "</div>"
      ],
      "text/plain": [
       "   instanceid  patientid  imagename celltypename  celltype  iscancerous\n",
       "0       22405          1  22405.png   fibroblast         0            0\n",
       "1       22406          1  22406.png   fibroblast         0            0\n",
       "2       22407          1  22407.png   fibroblast         0            0\n",
       "3       22408          1  22408.png   fibroblast         0            0\n",
       "4       22409          1  22409.png   fibroblast         0            0"
      ]
     },
     "execution_count": 29,
     "metadata": {},
     "output_type": "execute_result"
    }
   ],
   "source": [
    "#TODO: Remove duplicate image out of the dataframe\n",
    "df_labels.head()"
   ]
  },
  {
   "cell_type": "code",
   "execution_count": 30,
   "metadata": {
    "cell_id": "dafdfbc38f7149d092018ed2775253ba",
    "deepnote_cell_type": "code",
    "deepnote_to_be_reexecuted": false,
    "execution_millis": 0,
    "execution_start": 1672922958859,
    "source_hash": "b9d4dcd2",
    "tags": []
   },
   "outputs": [],
   "source": [
    "#TODO: Squash a 2d array and get unique image id"
   ]
  },
  {
   "cell_type": "code",
   "execution_count": 31,
   "metadata": {
    "cell_id": "ff3ce9bf052d4e7aadfc1650f6d91c18",
    "deepnote_cell_type": "code",
    "deepnote_to_be_reexecuted": false,
    "execution_millis": 1,
    "execution_start": 1672922958859,
    "source_hash": "e3f57e15",
    "tags": []
   },
   "outputs": [],
   "source": [
    "df_labels_processed = df_labels.loc[~df_labels['imagename'].isin(res)]"
   ]
  },
  {
   "cell_type": "code",
   "execution_count": 32,
   "metadata": {
    "cell_id": "243671fc1d314fb8b8be7c2d4ede89f4",
    "deepnote_cell_type": "code",
    "deepnote_to_be_reexecuted": false,
    "execution_millis": 9,
    "execution_start": 1672922958860,
    "source_hash": "ef6a3b5",
    "tags": []
   },
   "outputs": [],
   "source": [
    "df_extra_processed = df_extra.loc[~df_extra['imagename'].isin(res)]"
   ]
  },
  {
   "cell_type": "code",
   "execution_count": 33,
   "metadata": {
    "cell_id": "5ad54ed2a9a347928c20c117f75c30fc",
    "deepnote_cell_type": "code",
    "deepnote_to_be_reexecuted": false,
    "execution_millis": 5,
    "execution_start": 1672922958869,
    "source_hash": "3a32cfe0",
    "tags": []
   },
   "outputs": [
    {
     "name": "stdout",
     "output_type": "stream",
     "text": [
      "<class 'pandas.core.frame.DataFrame'>\n",
      "Int64Index: 10294 entries, 0 to 10382\n",
      "Data columns (total 4 columns):\n",
      " #   Column       Non-Null Count  Dtype \n",
      "---  ------       --------------  ----- \n",
      " 0   instanceid   10294 non-null  int64 \n",
      " 1   patientid    10294 non-null  int64 \n",
      " 2   imagename    10294 non-null  object\n",
      " 3   iscancerous  10294 non-null  int64 \n",
      "dtypes: int64(3), object(1)\n",
      "memory usage: 402.1+ KB\n"
     ]
    }
   ],
   "source": [
    "df_extra_processed.info()"
   ]
  },
  {
   "cell_type": "code",
   "execution_count": 34,
   "metadata": {
    "cell_id": "30d747794f9d4ed680e2e5cfd40d8b00",
    "deepnote_cell_type": "code",
    "deepnote_to_be_reexecuted": false,
    "execution_millis": 3,
    "execution_start": 1672922958873,
    "source_hash": "31857eee",
    "tags": []
   },
   "outputs": [
    {
     "name": "stdout",
     "output_type": "stream",
     "text": [
      "<class 'pandas.core.frame.DataFrame'>\n",
      "Int64Index: 9803 entries, 0 to 9895\n",
      "Data columns (total 6 columns):\n",
      " #   Column        Non-Null Count  Dtype \n",
      "---  ------        --------------  ----- \n",
      " 0   instanceid    9803 non-null   int64 \n",
      " 1   patientid     9803 non-null   int64 \n",
      " 2   imagename     9803 non-null   object\n",
      " 3   celltypename  9803 non-null   object\n",
      " 4   celltype      9803 non-null   int64 \n",
      " 5   iscancerous   9803 non-null   int64 \n",
      "dtypes: int64(4), object(2)\n",
      "memory usage: 536.1+ KB\n"
     ]
    }
   ],
   "source": [
    "df_labels_processed.info()"
   ]
  },
  {
   "cell_type": "code",
   "execution_count": 35,
   "metadata": {
    "cell_id": "77a81e399a2e40108d13e38e3d0a9de3",
    "deepnote_cell_type": "code",
    "deepnote_to_be_reexecuted": false,
    "execution_millis": 32,
    "execution_start": 1672922958877,
    "source_hash": "bcaf4dfb",
    "tags": []
   },
   "outputs": [],
   "source": [
    "df_extra_processed.to_csv('./converted_data/processed_extra.csv',index= False)\n",
    "df_labels_processed.to_csv('./converted_data/processed_label.csv',index= False)"
   ]
  },
  {
   "cell_type": "markdown",
   "metadata": {
    "created_in_deepnote_cell": true,
    "deepnote_cell_type": "markdown",
    "tags": []
   },
   "source": [
    "<a style='text-decoration:none;line-height:16px;display:flex;color:#5B5B62;padding:10px;justify-content:end;' href='https://deepnote.com?utm_source=created-in-deepnote-cell&projectId=8d871b9e-4e37-4fce-a22e-8733be6e4afc' target=\"_blank\">\n",
    "<img alt='Created in deepnote.com' style='display:inline;max-height:16px;margin:0px;margin-right:7.5px;' src='data:image/svg+xml;base64,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' > </img>\n",
    "Created in <span style='font-weight:600;margin-left:4px;'>Deepnote</span></a>"
   ]
  }
 ],
 "metadata": {
  "deepnote": {},
  "deepnote_execution_queue": [],
  "deepnote_notebook_id": "104b4bb7d35d4086b1caf300c3bd47f4",
  "deepnote_persisted_session": {
   "createdAt": "2023-01-05T13:31:34.092Z"
  },
  "kernelspec": {
   "display_name": "Python 3 (ipykernel)",
   "language": "python",
   "name": "python3"
  },
  "language_info": {
   "codemirror_mode": {
    "name": "ipython",
    "version": 3
   },
   "file_extension": ".py",
   "mimetype": "text/x-python",
   "name": "python",
   "nbconvert_exporter": "python",
   "pygments_lexer": "ipython3",
   "version": "3.9.16"
  },
  "vscode": {
   "interpreter": {
    "hash": "b0fa6594d8f4cbf19f97940f81e996739fb7646882a419484c72d19e05852a7e"
   }
  }
 },
 "nbformat": 4,
 "nbformat_minor": 4
}
