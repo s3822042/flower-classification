version https://git-lfs.github.com/spec/v1
oid sha256:04b16692ddc300474a6e05795d6689b7cdb2cc43c6cd18d138ce897086868b90
size 2523920
