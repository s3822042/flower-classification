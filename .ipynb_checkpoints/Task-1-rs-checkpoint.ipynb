version https://git-lfs.github.com/spec/v1
oid sha256:bbf19effc5160d4f0f663c548d8f2e2ac3abd59b36ae708277c97f43c8a47b35
size 25781
