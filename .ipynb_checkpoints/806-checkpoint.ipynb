version https://git-lfs.github.com/spec/v1
oid sha256:15e68e424952c165369d31155d91b60c0171f1c6a905d65f0d241cc4c685ad68
size 2833567
