version https://git-lfs.github.com/spec/v1
oid sha256:c6ff192042d7eec7119d8a757461de9923c72d1ccf6d96f4969c152e56432aa9
size 909856
