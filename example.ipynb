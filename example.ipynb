{
  "cells": [
    {
      "cell_type": "code",
      "execution_count": null,
      "metadata": {
        "id": "LGKdFqve-HRg"
      },
      "outputs": [],
      "source": [
        "import os\n",
        "import random\n",
        "import shutil\n",
        "import numpy as np\n",
        "import tensorflow as tf\n",
        "from tensorflow import keras\n",
        "import matplotlib.pyplot as plt\n",
        "from keras.models import *\n",
        "from keras.layers import *\n",
        "from keras import backend as K\n",
        "from keras.utils.vis_utils import plot_model\n",
        "from keras.optimizers import Adam\n",
        "from PIL import Image\n",
        "from sklearn.metrics.pairwise import cosine_similarity\n",
        "from keras.preprocessing.image import ImageDataGenerator\n",
        "from keras.callbacks import ModelCheckpoint, EarlyStopping\n",
        "from keras.callbacks import ReduceLROnPlateau, EarlyStopping"
      ]
    },
    {
      "cell_type": "code",
      "execution_count": null,
      "metadata": {
        "id": "NK31hAT7-bq-",
        "colab": {
          "base_uri": "https://localhost:8080/",
          "height": 125
        },
        "outputId": "8c8f914c-0c95-42d1-a47b-29c835bc0d72"
      },
      "outputs": [
        {
          "output_type": "stream",
          "name": "stderr",
          "text": [
            "Downloading...\n",
            "From: https://drive.google.com/u/0/uc?id=1DyN5mk6oMqULPQ4z52KldztKHMl_ukW6&export=download&confirm=t&uuid=d2595c84-06e2-416e-ba3d-734be21e2664&at=AKKF8vwWd5qmBZcNqmu1E9Un_Xsu:1684169207246\n",
            "To: /content/data.zip\n",
            "100%|██████████| 74.6M/74.6M [00:04<00:00, 18.2MB/s]\n"
          ]
        },
        {
          "output_type": "execute_result",
          "data": {
            "text/plain": [
              "'/content/data.zip'"
            ],
            "application/vnd.google.colaboratory.intrinsic+json": {
              "type": "string"
            }
          },
          "metadata": {},
          "execution_count": 7
        }
      ],
      "source": [
        "import gdown\n",
        "from pathlib import Path  \n",
        "url = 'https://drive.google.com/u/0/uc?id=1DyN5mk6oMqULPQ4z52KldztKHMl_ukW6&export=download&confirm=t&uuid=d2595c84-06e2-416e-ba3d-734be21e2664&at=AKKF8vwWd5qmBZcNqmu1E9Un_Xsu:1684169207246'\n",
        "output = f'{Path().absolute()}/data.zip'\n",
        "gdown.download(url, output, quiet = False)"
      ]
    },
    {
      "cell_type": "code",
      "source": [
        "import zipfile\n",
        "with zipfile.ZipFile(\"data.zip\", 'r') as zip_ref:\n",
        "    zip_ref.extractall()"
      ],
      "metadata": {
        "id": "fWmon4eQsIhU"
      },
      "execution_count": null,
      "outputs": []
    },
    {
      "cell_type": "code",
      "source": [
        "!pip3 install imagehash\n",
        "import imagehash\n",
        "import glob\n",
        "\n",
        "hashes = {}\n",
        "duplicated = []   \n",
        "\n",
        "# Define a function to compute the hash of an image file\n",
        "def compute_hash(filepath):\n",
        "    with Image.open(filepath) as img:\n",
        "        return str(imagehash.phash(img))\n",
        "    \n",
        "# Define a function to find and remove duplicated images\n",
        "def check_duplicates(rootdir):\n",
        "    rootdir = glob.glob(rootdir)\n",
        "    duplicated = []\n",
        "    max_length = 0\n",
        "    for folder in rootdir:\n",
        "        print()\n",
        "        print(folder)\n",
        "        for image_dir in glob.glob(folder+'/*.jpg'):\n",
        "            # Compute the hash of the image file\n",
        "            file_hash = compute_hash(image_dir)\n",
        "            # Check if this hash has already been seen\n",
        "            file=os.path.basename(image_dir).split('/')[-1]\n",
        "            if file_hash in hashes:\n",
        "                # if the image hash exists already, save the collision filenames\n",
        "                dupe_idx = hashes[file_hash]\n",
        "                duplicated.append((dupe_idx, image_dir))\n",
        "            else:\n",
        "                # This file is not a duplicate, so remember its hash\n",
        "                hashes[file_hash] = image_dir\n",
        "        print(r'Duplicated image in ',folder,' :',len(duplicated)-max_length)\n",
        "        max_length=len(duplicated)\n",
        "\n",
        "# Define a function to find and remove duplicated images\n",
        "def remove_duplicates(rootdir):\n",
        "    rootdir = glob.glob(rootdir)\n",
        "    print(hashes)\n",
        "    for folder in rootdir:\n",
        "        print()\n",
        "        print(folder)\n",
        "        for image_dir in glob.glob(folder+'/*.jpg'):\n",
        "            # Compute the hash of the image file\n",
        "            file_hash = compute_hash(image_dir)\n",
        "            # Check if this hash has already been seen\n",
        "            file=os.path.basename(image_dir).split('/')[-1]\n",
        "            if image_dir not in hashes.values():\n",
        "                print(file_hash)\n",
        "                print(image_dir)\n",
        "                os.remove(image_dir)\n",
        "                print(f'Removed duplicate file: {file}')"
      ],
      "metadata": {
        "id": "RY3iys9Torwq"
      },
      "execution_count": null,
      "outputs": []
    },
    {
      "cell_type": "code",
      "source": [
        "check_duplicates('data/Flowers/*')"
      ],
      "metadata": {
        "id": "3mIrKlxzotI6"
      },
      "execution_count": null,
      "outputs": []
    },
    {
      "cell_type": "code",
      "source": [
        "remove_duplicates('data/Flowers/*')"
      ],
      "metadata": {
        "id": "FvB8hhTMo9tm"
      },
      "execution_count": null,
      "outputs": []
    },
    {
      "cell_type": "code",
      "execution_count": null,
      "metadata": {
        "id": "YX3ngnQx-HRh"
      },
      "outputs": [],
      "source": [
        "def recall_cnn(y_true, y_pred):\n",
        "    true_positives = K.sum(K.round(K.clip(y_true * y_pred, 0, 1)))\n",
        "    possible_positives = K.sum(K.round(K.clip(y_true, 0, 1)))\n",
        "    recall = true_positives / (possible_positives + K.epsilon())\n",
        "    return recall\n",
        "\n",
        "\n",
        "def precision_cnn(y_true, y_pred):\n",
        "    true_positives = K.sum(K.round(K.clip(y_true * y_pred, 0, 1)))\n",
        "    predicted_positives = K.sum(K.round(K.clip(y_pred, 0, 1)))\n",
        "    precision = true_positives / (predicted_positives + K.epsilon())\n",
        "    return precision\n",
        "\n",
        "\n",
        "def f1_cnn(y_true, y_pred):\n",
        "    precision = precision_cnn(y_true, y_pred)\n",
        "    recall = recall_cnn(y_true, y_pred)\n",
        "    return 2 * ((precision * recall) / (precision + recall + K.epsilon()))\n"
      ]
    },
    {
      "cell_type": "code",
      "execution_count": null,
      "metadata": {
        "id": "0_cI21ht-HRi"
      },
      "outputs": [],
      "source": [
        "METRICS = [\"accuracy\", recall_cnn, precision_cnn, f1_cnn]"
      ]
    },
    {
      "cell_type": "code",
      "execution_count": null,
      "metadata": {
        "id": "QA741ahb-HRi"
      },
      "outputs": [],
      "source": [
        "def visualize_history(history):\n",
        "    #  \"Plot Accuracy\"\n",
        "    plt.plot(history.history[\"accuracy\"])\n",
        "    plt.plot(history.history[\"val_accuracy\"])\n",
        "    plt.title(\"model accuracy\")\n",
        "    plt.ylabel(\"accuracy\")\n",
        "    plt.xlabel(\"epoch\")\n",
        "    plt.legend([\"train\", \"validation\"], loc=\"upper left\")\n",
        "    plt.show()\n",
        "\n",
        "    # \"Plot Loss\"\n",
        "    plt.plot(history.history[\"loss\"])\n",
        "    plt.plot(history.history[\"val_loss\"])\n",
        "    plt.title(\"model loss\")\n",
        "    plt.ylabel(\"loss\")\n",
        "    plt.xlabel(\"epoch\")\n",
        "    plt.legend([\"train\", \"validation\"], loc=\"upper left\")\n",
        "    plt.show()\n"
      ]
    },
    {
      "cell_type": "code",
      "execution_count": null,
      "metadata": {
        "id": "UPZbOd6t-HRi"
      },
      "outputs": [],
      "source": [
        "def train_model(epochs_num, model, train_iter, valid_iter, export_dir=\"./export\", name=\"default\"):\n",
        "    # -------------------------------------------------------------------------\n",
        "    #                        Train CNN Model\n",
        "    # -------------------------------------------------------------------------\n",
        "\n",
        "    epochs = epochs_num\n",
        "\n",
        "    callbacks = [EarlyStopping(monitor='val_accuracy', patience=7, mode='max', verbose=1)]\n",
        "\n",
        "    history = model.fit(\n",
        "        train_iter,\n",
        "        steps_per_epoch=len(train_iter),\n",
        "        validation_data=valid_iter,\n",
        "        validation_steps=len(valid_iter),\n",
        "        epochs=epochs,\n",
        "        verbose=1,\n",
        "        callbacks=callbacks,\n",
        "    )\n",
        "\n",
        "    return history"
      ]
    },
    {
      "cell_type": "code",
      "execution_count": null,
      "metadata": {
        "id": "WbaITXxa-HRi"
      },
      "outputs": [],
      "source": [
        "VGG16_model = Sequential()\n",
        "VGG16_model.add(Conv2D(32,(3,3),strides=(1, 1),activation='relu',padding='same', input_shape=(224, 224, 3)))\n",
        "VGG16_model.add(MaxPooling2D(pool_size=(2,2)))\n",
        "VGG16_model.add(Conv2D(64,(3,3),strides=(1, 1) ,padding='same',activation='relu'))\n",
        "VGG16_model.add(MaxPooling2D(pool_size=(2,2)))\n",
        "VGG16_model.add(Conv2D(128,(3,3),strides=(1, 1),padding='same', activation='relu'))\n",
        "VGG16_model.add(MaxPooling2D(pool_size=(2,2)))\n",
        "VGG16_model.add(Conv2D(256,(3,3),strides=(1, 1),padding='same', activation='relu'))\n",
        "VGG16_model.add(MaxPooling2D(pool_size=(2,2)))\n",
        "VGG16_model.add(Flatten())\n",
        "\n",
        "VGG16_model.add(Dense(128, activation='relu'))\n",
        "VGG16_model.add(Dense(64, activation='relu'))\n",
        "VGG16_model.add(Dense(8, activation='softmax'))"
      ]
    },
    {
      "cell_type": "code",
      "execution_count": null,
      "metadata": {
        "colab": {
          "base_uri": "https://localhost:8080/"
        },
        "id": "4E3QVR9_-HRj",
        "outputId": "807bc453-b960-4408-caa3-3707bbe746fc"
      },
      "outputs": [
        {
          "output_type": "stream",
          "name": "stdout",
          "text": [
            "Model: \"sequential\"\n",
            "_________________________________________________________________\n",
            " Layer (type)                Output Shape              Param #   \n",
            "=================================================================\n",
            " conv2d (Conv2D)             (None, 224, 224, 32)      896       \n",
            "                                                                 \n",
            " max_pooling2d (MaxPooling2D  (None, 112, 112, 32)     0         \n",
            " )                                                               \n",
            "                                                                 \n",
            " conv2d_1 (Conv2D)           (None, 112, 112, 64)      18496     \n",
            "                                                                 \n",
            " max_pooling2d_1 (MaxPooling  (None, 56, 56, 64)       0         \n",
            " 2D)                                                             \n",
            "                                                                 \n",
            " conv2d_2 (Conv2D)           (None, 56, 56, 128)       73856     \n",
            "                                                                 \n",
            " max_pooling2d_2 (MaxPooling  (None, 28, 28, 128)      0         \n",
            " 2D)                                                             \n",
            "                                                                 \n",
            " conv2d_3 (Conv2D)           (None, 28, 28, 256)       295168    \n",
            "                                                                 \n",
            " max_pooling2d_3 (MaxPooling  (None, 14, 14, 256)      0         \n",
            " 2D)                                                             \n",
            "                                                                 \n",
            " flatten (Flatten)           (None, 50176)             0         \n",
            "                                                                 \n",
            " dense (Dense)               (None, 128)               6422656   \n",
            "                                                                 \n",
            " dense_1 (Dense)             (None, 64)                8256      \n",
            "                                                                 \n",
            " dense_2 (Dense)             (None, 8)                 520       \n",
            "                                                                 \n",
            "=================================================================\n",
            "Total params: 6,819,848\n",
            "Trainable params: 6,819,848\n",
            "Non-trainable params: 0\n",
            "_________________________________________________________________\n"
          ]
        }
      ],
      "source": [
        "VGG16_model.summary()"
      ]
    },
    {
      "cell_type": "code",
      "execution_count": null,
      "metadata": {
        "colab": {
          "base_uri": "https://localhost:8080/"
        },
        "id": "RXhCiWcm-HRj",
        "outputId": "1559301d-14bb-42a8-cb55-6f6ac7e826f7"
      },
      "outputs": [
        {
          "output_type": "stream",
          "name": "stdout",
          "text": [
            "Found 3700 images belonging to 8 classes.\n",
            "Found 921 images belonging to 8 classes.\n"
          ]
        }
      ],
      "source": [
        "data_folder = 'data/Flowers'\n",
        "\n",
        "train_datagen = ImageDataGenerator(\n",
        "    rescale=1.0 / 255,\n",
        "    shear_range=0.2,\n",
        "    zoom_range=0.2,\n",
        "    horizontal_flip=True,\n",
        "    width_shift_range=0.2,\n",
        "    height_shift_range=0.2,\n",
        "    rotation_range=20,\n",
        "    validation_split=0.2  # 20% of the data will be used for validation\n",
        ")\n",
        "\n",
        "train_generator = train_datagen.flow_from_directory(\n",
        "    data_folder,\n",
        "    target_size=(224, 224),\n",
        "    batch_size=64,\n",
        "    class_mode='categorical',\n",
        "    shuffle=True,\n",
        "    seed=42,\n",
        "    subset='training'  # Use the training subset\n",
        ")\n",
        "\n",
        "validation_generator = train_datagen.flow_from_directory(\n",
        "    data_folder,\n",
        "    target_size=(224, 224),\n",
        "    batch_size=64,\n",
        "    class_mode='categorical',\n",
        "    shuffle=True,\n",
        "    seed=42,\n",
        "    subset='validation'  # Use the validation subset\n",
        ")"
      ]
    },
    {
      "cell_type": "code",
      "execution_count": null,
      "metadata": {
        "colab": {
          "base_uri": "https://localhost:8080/"
        },
        "id": "6-I7PDQn-HRk",
        "outputId": "acb8ad78-846d-4f59-e421-47f231edd113"
      },
      "outputs": [
        {
          "output_type": "stream",
          "name": "stdout",
          "text": [
            "CPU times: user 15.9 ms, sys: 952 µs, total: 16.8 ms\n",
            "Wall time: 17.9 ms\n"
          ]
        }
      ],
      "source": [
        "%%time\n",
        "\n",
        "VGG16_model.compile(loss='categorical_crossentropy',\n",
        "                       optimizer=\"Adam\", metrics=METRICS)"
      ]
    },
    {
      "cell_type": "code",
      "execution_count": null,
      "metadata": {
        "colab": {
          "base_uri": "https://localhost:8080/"
        },
        "id": "WI-JCDOI-HRk",
        "outputId": "396703e2-7723-46de-ed7a-d6e2cdfe5ac8"
      },
      "outputs": [
        {
          "output_type": "stream",
          "name": "stdout",
          "text": [
            "Epoch 1/70\n",
            "58/58 [==============================] - 93s 1s/step - loss: 2.0320 - accuracy: 0.2073 - recall_cnn: 0.0011 - precision_cnn: 0.0011 - f1_cnn: 0.0011 - val_loss: 1.9302 - val_accuracy: 0.2725 - val_recall_cnn: 0.0000e+00 - val_precision_cnn: 0.0000e+00 - val_f1_cnn: 0.0000e+00\n",
            "Epoch 2/70\n",
            "58/58 [==============================] - 70s 1s/step - loss: 1.8946 - accuracy: 0.2886 - recall_cnn: 0.0043 - precision_cnn: 0.0667 - f1_cnn: 0.0078 - val_loss: 1.8081 - val_accuracy: 0.3377 - val_recall_cnn: 0.0135 - val_precision_cnn: 0.3667 - val_f1_cnn: 0.0260\n",
            "Epoch 3/70\n",
            "58/58 [==============================] - 71s 1s/step - loss: 1.7392 - accuracy: 0.3592 - recall_cnn: 0.0810 - precision_cnn: 0.6516 - f1_cnn: 0.1366 - val_loss: 1.6775 - val_accuracy: 0.3561 - val_recall_cnn: 0.0172 - val_precision_cnn: 0.4722 - val_f1_cnn: 0.0329\n",
            "Epoch 4/70\n",
            "58/58 [==============================] - 65s 1s/step - loss: 1.5732 - accuracy: 0.4197 - recall_cnn: 0.1503 - precision_cnn: 0.6291 - f1_cnn: 0.2360 - val_loss: 1.5067 - val_accuracy: 0.4582 - val_recall_cnn: 0.1687 - val_precision_cnn: 0.7212 - val_f1_cnn: 0.2714\n",
            "Epoch 5/70\n",
            "58/58 [==============================] - 70s 1s/step - loss: 1.4846 - accuracy: 0.4573 - recall_cnn: 0.2291 - precision_cnn: 0.6555 - f1_cnn: 0.3327 - val_loss: 1.4912 - val_accuracy: 0.4528 - val_recall_cnn: 0.2299 - val_precision_cnn: 0.5970 - val_f1_cnn: 0.3297\n",
            "Epoch 6/70\n",
            "58/58 [==============================] - 71s 1s/step - loss: 1.4113 - accuracy: 0.4819 - recall_cnn: 0.2623 - precision_cnn: 0.6592 - f1_cnn: 0.3720 - val_loss: 1.3486 - val_accuracy: 0.5212 - val_recall_cnn: 0.2870 - val_precision_cnn: 0.7014 - val_f1_cnn: 0.4057\n",
            "Epoch 7/70\n",
            "58/58 [==============================] - 71s 1s/step - loss: 1.3471 - accuracy: 0.5062 - recall_cnn: 0.2999 - precision_cnn: 0.6731 - f1_cnn: 0.4086 - val_loss: 1.3466 - val_accuracy: 0.5299 - val_recall_cnn: 0.3636 - val_precision_cnn: 0.6662 - val_f1_cnn: 0.4698\n",
            "Epoch 8/70\n",
            "58/58 [==============================] - 70s 1s/step - loss: 1.3096 - accuracy: 0.5227 - recall_cnn: 0.3229 - precision_cnn: 0.6822 - f1_cnn: 0.4344 - val_loss: 1.3228 - val_accuracy: 0.5212 - val_recall_cnn: 0.3454 - val_precision_cnn: 0.6779 - val_f1_cnn: 0.4561\n",
            "Epoch 9/70\n",
            "58/58 [==============================] - 77s 1s/step - loss: 1.2969 - accuracy: 0.5203 - recall_cnn: 0.3395 - precision_cnn: 0.6936 - f1_cnn: 0.4531 - val_loss: 1.3362 - val_accuracy: 0.5266 - val_recall_cnn: 0.2845 - val_precision_cnn: 0.6964 - val_f1_cnn: 0.4026\n",
            "Epoch 10/70\n",
            "58/58 [==============================] - 70s 1s/step - loss: 1.2651 - accuracy: 0.5424 - recall_cnn: 0.3584 - precision_cnn: 0.6909 - f1_cnn: 0.4680 - val_loss: 1.2442 - val_accuracy: 0.5765 - val_recall_cnn: 0.2852 - val_precision_cnn: 0.7742 - val_f1_cnn: 0.4149\n",
            "Epoch 11/70\n",
            "58/58 [==============================] - 70s 1s/step - loss: 1.2007 - accuracy: 0.5641 - recall_cnn: 0.3933 - precision_cnn: 0.7004 - f1_cnn: 0.5013 - val_loss: 1.2074 - val_accuracy: 0.5776 - val_recall_cnn: 0.4412 - val_precision_cnn: 0.7168 - val_f1_cnn: 0.5454\n",
            "Epoch 12/70\n",
            "58/58 [==============================] - 78s 1s/step - loss: 1.1542 - accuracy: 0.5835 - recall_cnn: 0.4198 - precision_cnn: 0.7110 - f1_cnn: 0.5262 - val_loss: 1.1794 - val_accuracy: 0.5907 - val_recall_cnn: 0.4475 - val_precision_cnn: 0.7408 - val_f1_cnn: 0.5557\n",
            "Epoch 13/70\n",
            "58/58 [==============================] - 71s 1s/step - loss: 1.1497 - accuracy: 0.5830 - recall_cnn: 0.4316 - precision_cnn: 0.7221 - f1_cnn: 0.5371 - val_loss: 1.1526 - val_accuracy: 0.5983 - val_recall_cnn: 0.3892 - val_precision_cnn: 0.7742 - val_f1_cnn: 0.5157\n",
            "Epoch 14/70\n",
            "58/58 [==============================] - 69s 1s/step - loss: 1.1124 - accuracy: 0.6051 - recall_cnn: 0.4465 - precision_cnn: 0.7229 - f1_cnn: 0.5499 - val_loss: 1.1179 - val_accuracy: 0.6091 - val_recall_cnn: 0.4635 - val_precision_cnn: 0.7339 - val_f1_cnn: 0.5664\n",
            "Epoch 15/70\n",
            "58/58 [==============================] - 71s 1s/step - loss: 1.1022 - accuracy: 0.6046 - recall_cnn: 0.4599 - precision_cnn: 0.7266 - f1_cnn: 0.5610 - val_loss: 1.0690 - val_accuracy: 0.6287 - val_recall_cnn: 0.4671 - val_precision_cnn: 0.7951 - val_f1_cnn: 0.5870\n",
            "Epoch 16/70\n",
            "58/58 [==============================] - 77s 1s/step - loss: 1.0312 - accuracy: 0.6365 - recall_cnn: 0.4983 - precision_cnn: 0.7392 - f1_cnn: 0.5939 - val_loss: 1.1823 - val_accuracy: 0.5635 - val_recall_cnn: 0.3728 - val_precision_cnn: 0.6815 - val_f1_cnn: 0.4802\n",
            "Epoch 17/70\n",
            "58/58 [==============================] - 69s 1s/step - loss: 1.0489 - accuracy: 0.6219 - recall_cnn: 0.4821 - precision_cnn: 0.7401 - f1_cnn: 0.5820 - val_loss: 1.1615 - val_accuracy: 0.6167 - val_recall_cnn: 0.4826 - val_precision_cnn: 0.7413 - val_f1_cnn: 0.5824\n",
            "Epoch 18/70\n",
            "58/58 [==============================] - 70s 1s/step - loss: 1.0207 - accuracy: 0.6314 - recall_cnn: 0.5027 - precision_cnn: 0.7384 - f1_cnn: 0.5966 - val_loss: 1.0111 - val_accuracy: 0.6526 - val_recall_cnn: 0.5238 - val_precision_cnn: 0.7575 - val_f1_cnn: 0.6180\n",
            "Epoch 19/70\n",
            "58/58 [==============================] - 70s 1s/step - loss: 0.9808 - accuracy: 0.6527 - recall_cnn: 0.5294 - precision_cnn: 0.7519 - f1_cnn: 0.6202 - val_loss: 1.0115 - val_accuracy: 0.6602 - val_recall_cnn: 0.4844 - val_precision_cnn: 0.7807 - val_f1_cnn: 0.5968\n",
            "Epoch 20/70\n",
            "58/58 [==============================] - 71s 1s/step - loss: 0.9690 - accuracy: 0.6449 - recall_cnn: 0.5269 - precision_cnn: 0.7477 - f1_cnn: 0.6167 - val_loss: 0.9609 - val_accuracy: 0.6710 - val_recall_cnn: 0.5800 - val_precision_cnn: 0.7735 - val_f1_cnn: 0.6605\n",
            "Epoch 21/70\n",
            "58/58 [==============================] - 66s 1s/step - loss: 0.9444 - accuracy: 0.6632 - recall_cnn: 0.5555 - precision_cnn: 0.7549 - f1_cnn: 0.6388 - val_loss: 0.9537 - val_accuracy: 0.6764 - val_recall_cnn: 0.5307 - val_precision_cnn: 0.7717 - val_f1_cnn: 0.6283\n",
            "Epoch 22/70\n",
            "58/58 [==============================] - 70s 1s/step - loss: 0.9297 - accuracy: 0.6638 - recall_cnn: 0.5481 - precision_cnn: 0.7554 - f1_cnn: 0.6341 - val_loss: 1.0249 - val_accuracy: 0.6417 - val_recall_cnn: 0.5106 - val_precision_cnn: 0.7628 - val_f1_cnn: 0.6101\n",
            "Epoch 23/70\n",
            "58/58 [==============================] - 71s 1s/step - loss: 0.8969 - accuracy: 0.6759 - recall_cnn: 0.5693 - precision_cnn: 0.7646 - f1_cnn: 0.6513 - val_loss: 0.9830 - val_accuracy: 0.6688 - val_recall_cnn: 0.5597 - val_precision_cnn: 0.7610 - val_f1_cnn: 0.6439\n",
            "Epoch 24/70\n",
            "58/58 [==============================] - 70s 1s/step - loss: 0.8919 - accuracy: 0.6765 - recall_cnn: 0.5778 - precision_cnn: 0.7578 - f1_cnn: 0.6542 - val_loss: 1.0648 - val_accuracy: 0.6504 - val_recall_cnn: 0.5340 - val_precision_cnn: 0.7392 - val_f1_cnn: 0.6192\n",
            "Epoch 25/70\n",
            "58/58 [==============================] - 71s 1s/step - loss: 0.8690 - accuracy: 0.6803 - recall_cnn: 0.5824 - precision_cnn: 0.7608 - f1_cnn: 0.6590 - val_loss: 0.9513 - val_accuracy: 0.6678 - val_recall_cnn: 0.5824 - val_precision_cnn: 0.7656 - val_f1_cnn: 0.6609\n",
            "Epoch 26/70\n",
            "58/58 [==============================] - 70s 1s/step - loss: 0.8595 - accuracy: 0.6919 - recall_cnn: 0.6013 - precision_cnn: 0.7715 - f1_cnn: 0.6748 - val_loss: 0.9683 - val_accuracy: 0.6699 - val_recall_cnn: 0.5832 - val_precision_cnn: 0.7813 - val_f1_cnn: 0.6673\n",
            "Epoch 27/70\n",
            "58/58 [==============================] - 71s 1s/step - loss: 0.8318 - accuracy: 0.7038 - recall_cnn: 0.6183 - precision_cnn: 0.7809 - f1_cnn: 0.6892 - val_loss: 0.9526 - val_accuracy: 0.6797 - val_recall_cnn: 0.6045 - val_precision_cnn: 0.7609 - val_f1_cnn: 0.6731\n",
            "Epoch 28/70\n",
            "58/58 [==============================] - 70s 1s/step - loss: 0.8289 - accuracy: 0.7008 - recall_cnn: 0.6145 - precision_cnn: 0.7748 - f1_cnn: 0.6842 - val_loss: 0.9652 - val_accuracy: 0.6786 - val_recall_cnn: 0.5958 - val_precision_cnn: 0.7569 - val_f1_cnn: 0.6658\n",
            "Epoch 29/70\n",
            "58/58 [==============================] - 71s 1s/step - loss: 0.7994 - accuracy: 0.6992 - recall_cnn: 0.6258 - precision_cnn: 0.7860 - f1_cnn: 0.6961 - val_loss: 0.9634 - val_accuracy: 0.6873 - val_recall_cnn: 0.6155 - val_precision_cnn: 0.7729 - val_f1_cnn: 0.6848\n",
            "Epoch 30/70\n",
            "58/58 [==============================] - 70s 1s/step - loss: 0.7908 - accuracy: 0.7181 - recall_cnn: 0.6397 - precision_cnn: 0.7919 - f1_cnn: 0.7069 - val_loss: 0.9567 - val_accuracy: 0.6656 - val_recall_cnn: 0.6092 - val_precision_cnn: 0.7558 - val_f1_cnn: 0.6743\n",
            "Epoch 31/70\n",
            "58/58 [==============================] - 71s 1s/step - loss: 0.7733 - accuracy: 0.7195 - recall_cnn: 0.6487 - precision_cnn: 0.7891 - f1_cnn: 0.7113 - val_loss: 0.9245 - val_accuracy: 0.6873 - val_recall_cnn: 0.6208 - val_precision_cnn: 0.7769 - val_f1_cnn: 0.6893\n",
            "Epoch 32/70\n",
            "58/58 [==============================] - 70s 1s/step - loss: 0.7475 - accuracy: 0.7308 - recall_cnn: 0.6597 - precision_cnn: 0.7908 - f1_cnn: 0.7188 - val_loss: 0.9529 - val_accuracy: 0.6840 - val_recall_cnn: 0.6071 - val_precision_cnn: 0.7515 - val_f1_cnn: 0.6708\n",
            "Epoch 33/70\n",
            "58/58 [==============================] - 71s 1s/step - loss: 0.7777 - accuracy: 0.7278 - recall_cnn: 0.6532 - precision_cnn: 0.7983 - f1_cnn: 0.7179 - val_loss: 0.9317 - val_accuracy: 0.6819 - val_recall_cnn: 0.6327 - val_precision_cnn: 0.7585 - val_f1_cnn: 0.6893\n",
            "Epoch 34/70\n",
            "58/58 [==============================] - 74s 1s/step - loss: 0.7512 - accuracy: 0.7354 - recall_cnn: 0.6613 - precision_cnn: 0.8016 - f1_cnn: 0.7239 - val_loss: 0.9351 - val_accuracy: 0.6840 - val_recall_cnn: 0.6039 - val_precision_cnn: 0.7648 - val_f1_cnn: 0.6744\n",
            "Epoch 35/70\n",
            "58/58 [==============================] - 72s 1s/step - loss: 0.7267 - accuracy: 0.7368 - recall_cnn: 0.6685 - precision_cnn: 0.8010 - f1_cnn: 0.7280 - val_loss: 0.8890 - val_accuracy: 0.7058 - val_recall_cnn: 0.6368 - val_precision_cnn: 0.7587 - val_f1_cnn: 0.6922\n",
            "Epoch 36/70\n",
            "58/58 [==============================] - 69s 1s/step - loss: 0.7194 - accuracy: 0.7414 - recall_cnn: 0.6753 - precision_cnn: 0.8010 - f1_cnn: 0.7322 - val_loss: 0.9085 - val_accuracy: 0.7036 - val_recall_cnn: 0.6312 - val_precision_cnn: 0.7709 - val_f1_cnn: 0.6929\n",
            "Epoch 37/70\n",
            "58/58 [==============================] - 70s 1s/step - loss: 0.7058 - accuracy: 0.7478 - recall_cnn: 0.6890 - precision_cnn: 0.8113 - f1_cnn: 0.7445 - val_loss: 0.9285 - val_accuracy: 0.6960 - val_recall_cnn: 0.6302 - val_precision_cnn: 0.7731 - val_f1_cnn: 0.6940\n",
            "Epoch 38/70\n",
            "58/58 [==============================] - 65s 1s/step - loss: 0.6848 - accuracy: 0.7630 - recall_cnn: 0.6992 - precision_cnn: 0.8137 - f1_cnn: 0.7516 - val_loss: 0.8812 - val_accuracy: 0.6840 - val_recall_cnn: 0.6270 - val_precision_cnn: 0.7701 - val_f1_cnn: 0.6909\n",
            "Epoch 39/70\n",
            "58/58 [==============================] - 62s 1s/step - loss: 0.6702 - accuracy: 0.7554 - recall_cnn: 0.6935 - precision_cnn: 0.7994 - f1_cnn: 0.7423 - val_loss: 0.9678 - val_accuracy: 0.6906 - val_recall_cnn: 0.6511 - val_precision_cnn: 0.7510 - val_f1_cnn: 0.6969\n",
            "Epoch 40/70\n",
            "58/58 [==============================] - 62s 1s/step - loss: 0.6876 - accuracy: 0.7508 - recall_cnn: 0.6938 - precision_cnn: 0.8067 - f1_cnn: 0.7455 - val_loss: 0.8917 - val_accuracy: 0.7068 - val_recall_cnn: 0.6412 - val_precision_cnn: 0.7756 - val_f1_cnn: 0.7015\n",
            "Epoch 41/70\n",
            "58/58 [==============================] - 62s 1s/step - loss: 0.6583 - accuracy: 0.7632 - recall_cnn: 0.7054 - precision_cnn: 0.8089 - f1_cnn: 0.7531 - val_loss: 0.9673 - val_accuracy: 0.7079 - val_recall_cnn: 0.6440 - val_precision_cnn: 0.7734 - val_f1_cnn: 0.7021\n",
            "Epoch 42/70\n",
            "58/58 [==============================] - 62s 1s/step - loss: 0.6704 - accuracy: 0.7543 - recall_cnn: 0.6943 - precision_cnn: 0.8034 - f1_cnn: 0.7444 - val_loss: 0.9017 - val_accuracy: 0.6819 - val_recall_cnn: 0.6153 - val_precision_cnn: 0.7365 - val_f1_cnn: 0.6700\n",
            "Epoch 43/70\n",
            "58/58 [==============================] - 63s 1s/step - loss: 0.6381 - accuracy: 0.7724 - recall_cnn: 0.7191 - precision_cnn: 0.8191 - f1_cnn: 0.7655 - val_loss: 0.8940 - val_accuracy: 0.7014 - val_recall_cnn: 0.6385 - val_precision_cnn: 0.7674 - val_f1_cnn: 0.6966\n",
            "Epoch 44/70\n",
            "58/58 [==============================] - 63s 1s/step - loss: 0.6273 - accuracy: 0.7657 - recall_cnn: 0.7122 - precision_cnn: 0.8175 - f1_cnn: 0.7607 - val_loss: 1.0209 - val_accuracy: 0.6786 - val_recall_cnn: 0.6364 - val_precision_cnn: 0.7374 - val_f1_cnn: 0.6830\n",
            "Epoch 45/70\n",
            "58/58 [==============================] - 62s 1s/step - loss: 0.5874 - accuracy: 0.7873 - recall_cnn: 0.7383 - precision_cnn: 0.8295 - f1_cnn: 0.7808 - val_loss: 0.9738 - val_accuracy: 0.6992 - val_recall_cnn: 0.6558 - val_precision_cnn: 0.7700 - val_f1_cnn: 0.7074\n",
            "Epoch 46/70\n",
            "58/58 [==============================] - 62s 1s/step - loss: 0.5969 - accuracy: 0.7768 - recall_cnn: 0.7307 - precision_cnn: 0.8252 - f1_cnn: 0.7745 - val_loss: 0.8801 - val_accuracy: 0.7144 - val_recall_cnn: 0.6717 - val_precision_cnn: 0.7690 - val_f1_cnn: 0.7164\n",
            "Epoch 47/70\n",
            "58/58 [==============================] - 62s 1s/step - loss: 0.6593 - accuracy: 0.7616 - recall_cnn: 0.7104 - precision_cnn: 0.8144 - f1_cnn: 0.7583 - val_loss: 0.9838 - val_accuracy: 0.6960 - val_recall_cnn: 0.6532 - val_precision_cnn: 0.7488 - val_f1_cnn: 0.6975\n",
            "Epoch 48/70\n",
            "58/58 [==============================] - 62s 1s/step - loss: 0.6097 - accuracy: 0.7811 - recall_cnn: 0.7406 - precision_cnn: 0.8285 - f1_cnn: 0.7816 - val_loss: 0.9003 - val_accuracy: 0.7123 - val_recall_cnn: 0.6405 - val_precision_cnn: 0.7841 - val_f1_cnn: 0.7039\n",
            "Epoch 49/70\n",
            "58/58 [==============================] - 71s 1s/step - loss: 0.5938 - accuracy: 0.7886 - recall_cnn: 0.7402 - precision_cnn: 0.8352 - f1_cnn: 0.7845 - val_loss: 0.9528 - val_accuracy: 0.7134 - val_recall_cnn: 0.6925 - val_precision_cnn: 0.7680 - val_f1_cnn: 0.7280\n",
            "Epoch 50/70\n",
            "58/58 [==============================] - 62s 1s/step - loss: 0.5715 - accuracy: 0.7873 - recall_cnn: 0.7446 - precision_cnn: 0.8265 - f1_cnn: 0.7831 - val_loss: 0.9661 - val_accuracy: 0.7014 - val_recall_cnn: 0.6440 - val_precision_cnn: 0.7416 - val_f1_cnn: 0.6891\n",
            "Epoch 51/70\n",
            "58/58 [==============================] - 62s 1s/step - loss: 0.5626 - accuracy: 0.7941 - recall_cnn: 0.7534 - precision_cnn: 0.8342 - f1_cnn: 0.7914 - val_loss: 0.9229 - val_accuracy: 0.7177 - val_recall_cnn: 0.6666 - val_precision_cnn: 0.7546 - val_f1_cnn: 0.7077\n",
            "Epoch 52/70\n",
            "58/58 [==============================] - 62s 1s/step - loss: 0.5789 - accuracy: 0.7838 - recall_cnn: 0.7489 - precision_cnn: 0.8235 - f1_cnn: 0.7841 - val_loss: 0.8755 - val_accuracy: 0.7329 - val_recall_cnn: 0.6855 - val_precision_cnn: 0.7748 - val_f1_cnn: 0.7270\n",
            "Epoch 53/70\n",
            "58/58 [==============================] - 62s 1s/step - loss: 0.5355 - accuracy: 0.8054 - recall_cnn: 0.7640 - precision_cnn: 0.8425 - f1_cnn: 0.8010 - val_loss: 0.8358 - val_accuracy: 0.7231 - val_recall_cnn: 0.6885 - val_precision_cnn: 0.7726 - val_f1_cnn: 0.7278\n",
            "Epoch 54/70\n",
            "58/58 [==============================] - 62s 1s/step - loss: 0.5269 - accuracy: 0.8092 - recall_cnn: 0.7751 - precision_cnn: 0.8424 - f1_cnn: 0.8070 - val_loss: 1.0407 - val_accuracy: 0.6960 - val_recall_cnn: 0.6740 - val_precision_cnn: 0.7359 - val_f1_cnn: 0.7034\n",
            "Epoch 55/70\n",
            "58/58 [==============================] - 62s 1s/step - loss: 0.5331 - accuracy: 0.8078 - recall_cnn: 0.7677 - precision_cnn: 0.8432 - f1_cnn: 0.8034 - val_loss: 0.8820 - val_accuracy: 0.7199 - val_recall_cnn: 0.6854 - val_precision_cnn: 0.7664 - val_f1_cnn: 0.7233\n",
            "Epoch 56/70\n",
            "58/58 [==============================] - 61s 1s/step - loss: 0.4999 - accuracy: 0.8176 - recall_cnn: 0.7806 - precision_cnn: 0.8490 - f1_cnn: 0.8131 - val_loss: 0.9057 - val_accuracy: 0.7101 - val_recall_cnn: 0.6770 - val_precision_cnn: 0.7498 - val_f1_cnn: 0.7111\n",
            "Epoch 57/70\n",
            "58/58 [==============================] - 62s 1s/step - loss: 0.5081 - accuracy: 0.8192 - recall_cnn: 0.7933 - precision_cnn: 0.8503 - f1_cnn: 0.8206 - val_loss: 0.9330 - val_accuracy: 0.7014 - val_recall_cnn: 0.6729 - val_precision_cnn: 0.7488 - val_f1_cnn: 0.7080\n",
            "Epoch 58/70\n",
            "58/58 [==============================] - 71s 1s/step - loss: 0.4881 - accuracy: 0.8203 - recall_cnn: 0.7846 - precision_cnn: 0.8527 - f1_cnn: 0.8170 - val_loss: 0.9362 - val_accuracy: 0.7068 - val_recall_cnn: 0.6721 - val_precision_cnn: 0.7579 - val_f1_cnn: 0.7121\n",
            "Epoch 59/70\n",
            "58/58 [==============================] - 62s 1s/step - loss: 0.4794 - accuracy: 0.8270 - recall_cnn: 0.8008 - precision_cnn: 0.8574 - f1_cnn: 0.8278 - val_loss: 0.8949 - val_accuracy: 0.7199 - val_recall_cnn: 0.6843 - val_precision_cnn: 0.7693 - val_f1_cnn: 0.7241\n",
            "Epoch 59: early stopping\n"
          ]
        },
        {
          "output_type": "execute_result",
          "data": {
            "text/plain": [
              "<keras.callbacks.History at 0x7f6d22e8e620>"
            ]
          },
          "metadata": {},
          "execution_count": 12
        }
      ],
      "source": [
        "history_vgg16 = train_model(70, VGG16_model, train_generator, validation_generator, export_dir=\"./export\", name=\"vgg16\")\n",
        "history_vgg16"
      ]
    },
    {
      "cell_type": "code",
      "execution_count": null,
      "metadata": {
        "id": "jkXA9T8C-HRk",
        "colab": {
          "base_uri": "https://localhost:8080/",
          "height": 927
        },
        "outputId": "bd5fc5fa-0afe-4cdd-f6a2-bd66e1c4ca45"
      },
      "outputs": [
        {
          "output_type": "display_data",
          "data": {
            "text/plain": [
              "<Figure size 640x480 with 1 Axes>"
            ],
            "image/png": "[encoded data removed]"
          },
          "metadata": {}
        },
        {
          "output_type": "display_data",
          "data": {
            "text/plain": [
              "<Figure size 640x480 with 1 Axes>"
            ],
            "image/png": "[encoded data removed]"
          },
          "metadata": {}
        }
      ],
      "source": [
        "visualize_history(history_vgg16)"
      ]
    },
    {
      "cell_type": "code",
      "source": [
        "def display_images(image_path, input_image, similar_images):\n",
        "    num_similar_images = len(similar_images)\n",
        "    num_output_rows = num_similar_images\n",
        "    num_output_cols = 1\n",
        "    row_height = 3\n",
        "    padding = 0.5\n",
        "\n",
        "    # Create a figure with a grid for input and similar images\n",
        "    fig, axes = plt.subplots(num_output_rows + 1, num_output_cols, figsize=(12, 2 + (num_output_rows + 1) * row_height))\n",
        "    fig.suptitle(\"Similar Images\", fontsize=14, fontweight='bold')\n",
        "\n",
        "    # Display the input image\n",
        "    axes[0, 0].imshow(input_image)\n",
        "    axes[0, 0].set_title(\"Input Image\\n\" + os.path.basename(image_path))\n",
        "    axes[0, 0].axis('off')\n",
        "\n",
        "    # Display the similar images\n",
        "    for i, (image_path, flower_type, similarity) in enumerate(similar_images):\n",
        "        img_similar = Image.open(image_path)\n",
        "        row = i + 1\n",
        "        col = 0\n",
        "        axes[row, col].imshow(img_similar)\n",
        "        axes[row, col].set_title(f\"Similar Image {i+1}\\n{os.path.basename(image_path)}\\nFlower Type: {flower_type}\\nSimilarity: {similarity:.2f}\")\n",
        "        axes[row, col].axis('off')\n",
        "\n",
        "    # Adjust spacing between rows\n",
        "    fig.subplots_adjust(hspace=padding)\n",
        "\n",
        "    # Remove empty subplots\n",
        "    for i in range(num_similar_images + 1, num_output_rows * num_output_cols):\n",
        "        row = i // num_output_cols\n",
        "        col = i % num_output_cols\n",
        "        fig.delaxes(axes[row, col])\n",
        "\n",
        "    plt.tight_layout()\n",
        "    plt.show()"
      ],
      "metadata": {
        "id": "d4PADUeveCk2"
      },
      "execution_count": null,
      "outputs": []
    },
    {
      "cell_type": "code",
      "execution_count": null,
      "metadata": {
        "id": "xaJSSWTxRbDU"
      },
      "outputs": [],
      "source": [
        "def find_similar_images(model, image_path):\n",
        "    data_folder = os.path.dirname(os.path.dirname(image_path))\n",
        "    flower_types = os.listdir(data_folder)\n",
        "    top_n = 10\n",
        "\n",
        "    # Load and preprocess the input image\n",
        "    img = tf.keras.preprocessing.image.load_img(image_path, target_size=(224, 224))\n",
        "    x = tf.keras.preprocessing.image.img_to_array(img)\n",
        "    x = np.expand_dims(x, axis=0)\n",
        "    x = tf.keras.applications.vgg16.preprocess_input(x)\n",
        "\n",
        "    # Create a new model that outputs the desired layer's activations\n",
        "    intermediate_layer_model = Model(inputs=model.input, outputs=model.get_layer('flatten').output)\n",
        "\n",
        "    # Extract the feature vector of the input image\n",
        "    features = intermediate_layer_model.predict(x)\n",
        "\n",
        "    # Calculate cosine similarities between the input image and all the images in the dataset\n",
        "    similarities = []\n",
        "    for i, flower_type in enumerate(flower_types):\n",
        "        folder_path = os.path.join(data_folder, flower_type)\n",
        "        for file_name in os.listdir(folder_path):\n",
        "            if file_name.endswith('.jpg'):\n",
        "                image_path_i = os.path.join(folder_path, file_name)\n",
        "                if image_path_i == image_path:\n",
        "                    continue  # Skip the comparison if the image paths are the same\n",
        "                img_i = tf.keras.preprocessing.image.load_img(image_path_i, target_size=(224, 224))\n",
        "                x_i = tf.keras.preprocessing.image.img_to_array(img_i)\n",
        "                x_i = np.expand_dims(x_i, axis=0)\n",
        "                x_i = tf.keras.applications.vgg16.preprocess_input(x_i)\n",
        "                features_i = intermediate_layer_model.predict(x_i)\n",
        "\n",
        "                # Ensure that the features belong to the same class\n",
        "                if flower_type == os.path.basename(os.path.dirname(image_path_i)):\n",
        "                    similarity = cosine_similarity(features, features_i)[0][0]\n",
        "                    similarities.append((image_path_i, flower_type, similarity))\n",
        "\n",
        "    # Sort the similarities in descending order and select the top_n images\n",
        "    similarities = sorted(similarities, key=lambda x: x[2], reverse=True)[:top_n]\n",
        "\n",
        "    # Display the input image, filename, and flower type\n",
        "    print(\"Input Image:\", os.path.basename(image_path))\n",
        "\n",
        "    # Extract the input image for display\n",
        "    input_image = Image.open(image_path)\n",
        "\n",
        "    # Extract the similar images for display\n",
        "    similar_images = []\n",
        "    for image_path, flower_type, similarity in similarities:\n",
        "        similar_images.append((image_path, flower_type, similarity))\n",
        "\n",
        "    # Call the display_images function to show the input image and similar images\n",
        "    display_images(image_path, input_image, similar_images)\n"
      ]
    },
    {
      "cell_type": "code",
      "execution_count": null,
      "metadata": {
        "colab": {
          "base_uri": "https://localhost:8080/",
          "height": 165
        },
        "id": "9OQ20KH9swJZ",
        "outputId": "453ee649-3bf0-447a-ffe5-d188e64b61f4"
      },
      "outputs": [
        {
          "output_type": "error",
          "ename": "NameError",
          "evalue": "ignored",
          "traceback": [
            "\u001b[0;31m---------------------------------------------------------------------------\u001b[0m",
            "\u001b[0;31mNameError\u001b[0m                                 Traceback (most recent call last)",
            "\u001b[0;32m<ipython-input-4-80a42ce4d7f1>\u001b[0m in \u001b[0;36m<cell line: 1>\u001b[0;34m()\u001b[0m\n\u001b[0;32m----> 1\u001b[0;31m \u001b[0mfind_similar_images\u001b[0m\u001b[0;34m(\u001b[0m\u001b[0mVGG16_model\u001b[0m\u001b[0;34m,\u001b[0m \u001b[0;34m\"data/Flowers/Babi/babi_1.jpg\"\u001b[0m\u001b[0;34m)\u001b[0m\u001b[0;34m\u001b[0m\u001b[0;34m\u001b[0m\u001b[0m\n\u001b[0m",
            "\u001b[0;31mNameError\u001b[0m: name 'VGG16_model' is not defined"
          ]
        }
      ],
      "source": [
        "find_similar_images(VGG16_model, \"data/Flowers/Babi/babi_1.jpg\")"
      ]
    },
    {
      "cell_type": "markdown",
      "metadata": {
        "id": "he7sq4H2-HRk"
      },
      "source": [
        "AlexNet"
      ]
    },
    {
      "cell_type": "code",
      "execution_count": null,
      "metadata": {
        "id": "XlfxI8Zb-HRl"
      },
      "outputs": [],
      "source": []
    },
    {
      "cell_type": "code",
      "execution_count": null,
      "metadata": {
        "id": "2iD_lS4w-HRm"
      },
      "outputs": [],
      "source": [
        "# %%time\n",
        "\n",
        "# model_Alexnet.compile(loss='binary_crossentropy',\n",
        "#                        optimizer=\"Adam\", metrics=METRICS)"
      ]
    },
    {
      "cell_type": "code",
      "execution_count": null,
      "metadata": {
        "id": "Ux9CK9kh-HRm"
      },
      "outputs": [],
      "source": [
        "# history_alexnet = train_model(\n",
        "#     70, model_Alexnet, train_generator, validation_generator, export_dir=\"./export\", name=\"alexnet\"\n",
        "# )\n",
        "# history_alexnet"
      ]
    },
    {
      "cell_type": "code",
      "execution_count": null,
      "metadata": {
        "id": "sOhFh9hx-HRm"
      },
      "outputs": [],
      "source": [
        "# visualize_history(history_alexnet)"
      ]
    }
  ],
  "metadata": {
    "accelerator": "GPU",
    "colab": {
      "provenance": []
    },
    "gpuClass": "standard",
    "kernelspec": {
      "display_name": "myenv",
      "language": "python",
      "name": "python3"
    },
    "language_info": {
      "codemirror_mode": {
        "name": "ipython",
        "version": 3
      },
      "file_extension": ".py",
      "mimetype": "text/x-python",
      "name": "python",
      "nbconvert_exporter": "python",
      "pygments_lexer": "ipython3",
      "version": "3.10.11"
    }
  },
  "nbformat": 4,
  "nbformat_minor": 0
}